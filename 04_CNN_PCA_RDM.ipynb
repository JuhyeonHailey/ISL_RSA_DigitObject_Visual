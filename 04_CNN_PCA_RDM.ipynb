{
 "cells": [
  {
   "cell_type": "code",
   "execution_count": null,
   "metadata": {
    "collapsed": true
   },
   "outputs": [],
   "source": [
    "import os\n",
    "import time\n",
    "import random\n",
    "\n",
    "import numpy as np\n",
    "from PIL import Image\n",
    "import tensorflow as tf\n",
    "import os.path as pth\n",
    "from scipy import io\n",
    "import pandas as pd\n",
    "from sklearn.preprocessing import StandardScaler\n",
    "from sklearn.decomposition import PCA\n",
    "\n",
    "import seaborn as sns\n",
    "import matplotlib.pyplot as plt\n",
    "%matplotlib inline\n",
    "plt.rcParams.update({'font.size': 12})"
   ]
  },
  {
   "cell_type": "code",
   "execution_count": null,
   "metadata": {
    "collapsed": true
   },
   "outputs": [],
   "source": [
    "base = '/users/jmy/data/image_sound'\n",
    "label_list = ['zero', 'one', 'two', 'three', 'four', 'five', 'six', 'seven',\n",
    "                'eight', 'nine', 'bed', 'bird', 'cat', 'dog', 'house', 'tree']\n",
    "imgsize = [224, 224]\n",
    "vgg_mean = np.array([123.68, 116.779, 103.939], dtype=np.float32).reshape((1,1,3))"
   ]
  },
  {
   "cell_type": "code",
   "execution_count": null,
   "metadata": {
    "collapsed": true
   },
   "outputs": [],
   "source": [
    "data_base_path = pth.join('/data', '01_experiment_data', 'image_sound')\n",
    "\n",
    "def get_stim_idx(sbj_idx):\n",
    "    subject_path = pth.join(data_base_path,'prep_new_template', 's'+str(sbj_idx).zfill(2))\n",
    "    # stim idx\n",
    "    mat_file = io.loadmat(pth.join(subject_path, 'stimuli', 'run_order.mat'))\n",
    "    run_list = sorted([name for name in mat_file.keys() if name.startswith('run')])\n",
    "    image_name_list = [name.strip() for run_name in run_list for name in mat_file[run_name] if name.startswith('i_')]\n",
    "    temp_list = [(name, i) for i, name in enumerate(image_name_list)]\n",
    "    result = [sorted([image_name for image_name in temp_list if image_name[0].startswith('i_'+label)], \n",
    "                        key=lambda name: int(name[0].lstrip('i_'+label).rstrip('.wav'))) for label in label_list]\n",
    "    return [name for class_list in result for name, _ in class_list]\n",
    "def get_imgs(sorted_name_list):\n",
    "    imgs = np.zeros((192,224,224,3))\n",
    "    for idx,img_name in enumerate(sorted_name_list):\n",
    "        img_name = img_name.split('_')[1]\n",
    "        try:\n",
    "            path = data_base_path +'/subjects/skku/s'+str(sbj_list[sbj_idx])+'/stimuli/img/'+img_name+'.png'\n",
    "            img = Image.open(path)\n",
    "        except:\n",
    "            path = data_base_path +'/subjects/skku/s'+str(sbj_list[sbj_idx])+'/stimuli/img/'+img_name+'.jpg'\n",
    "            img = Image.open(path)\n",
    "        img = img.resize((imgsize[0], imgsize[1]), Image.ANTIALIAS)\n",
    "        if len(img.size) != 3:\n",
    "            img = img.convert('RGB')\n",
    "        img = np.asarray(img).astype('float32')\n",
    "        img = img - vgg_mean\n",
    "        imgs[idx] = img[:,:,::-1]\n",
    "    return imgs\n",
    "def get_layer_rep(li,imgs,method='Whole'):\n",
    "    n_imgs = imgs.shape[0]\n",
    "    op = graph.get_tensor_by_name(relus[li]+':0')\n",
    "    ft_sh = (n_imgs, op.shape[1], op.shape[2], op.shape[3])\n",
    "    rep_ = np.zeros((ft_sh),dtype='float32')\n",
    "    for i,img in enumerate(imgs):\n",
    "        img = np.expand_dims(img,0)\n",
    "        rp = sess.run(op, {x:img, is_training:False})\n",
    "        rep_[i] = rp\n",
    "    rep_ = rep_.reshape(n_imgs,-1)\n",
    "    return rep_ # 16,1000 or 16"
   ]
  },
  {
   "cell_type": "code",
   "execution_count": null,
   "metadata": {
    "collapsed": true
   },
   "outputs": [],
   "source": [
    "sbjs_num = 15\n",
    "sbj_list = [25,26,29,30,31,32,33,34,37,38,39,40,41,43,44]\n",
    "sbjs_imgs = np.zeros((sbjs_num,192,224,224,3)) # less than 3GB\n",
    "for sbj_idx in range(sbjs_num):\n",
    "    sbjs_imgs[sbj_idx] = get_imgs(get_stim_idx(sbj_list[sbj_idx]))"
   ]
  },
  {
   "cell_type": "code",
   "execution_count": null,
   "metadata": {
    "collapsed": true
   },
   "outputs": [],
   "source": [
    "# PCA\n",
    "savebase = '/users/jmy/data/image_sound/RDMs/CNN/PCA/16x16/'\n",
    "\n",
    "cdd_n, epoc = 5, 56\n",
    "    \n",
    "sess=tf.Session()\n",
    "mdl_pth = '/users/jmy/data/nets/16_class/VGG_Base/cdd_{}/net-{}.ckpt'.format(str(cdd_n).zfill(2),str(epoc-1))\n",
    "saver = tf.train.import_meta_graph(mdl_pth+'.meta')\n",
    "saver.restore(sess, mdl_pth) #tf.train.latest_checkpoint('/users/jmy/data/nets/dualcnn/one/cdd_14'))\n",
    "graph = tf.get_default_graph()\n",
    "# placeholder load\n",
    "x = graph.get_tensor_by_name(\"Placeholder:0\") \n",
    "is_training = graph.get_tensor_by_name(\"Placeholder_2:0\")\n",
    "# get relu layer\n",
    "relus = [op.name for op in graph.get_operations() if op.type=='Relu']\n",
    "relus = relus[:14] + ['fc8/Conv2D']"
   ]
  },
  {
   "cell_type": "code",
   "execution_count": null,
   "metadata": {
    "collapsed": true
   },
   "outputs": [],
   "source": [
    "ft_dim_info = [224,224,112,112,56,56,56,28,28,28,14,14,14]\n",
    "chn_info = [64,64,128,128,256,256,256,512,512,512,512,512,512]"
   ]
  },
  {
   "cell_type": "markdown",
   "metadata": {},
   "source": [
    "# CNN RDM"
   ]
  },
  {
   "cell_type": "code",
   "execution_count": null,
   "metadata": {
    "collapsed": true,
    "scrolled": true
   },
   "outputs": [],
   "source": [
    "depth = range(15)\n",
    "for li in depth:\n",
    "    for sbj_idx in range(sbjs_num):\n",
    "        rep_ = get_layer_rep(li,sbjs_imgs[sbj_idx])\n",
    "        std_ = StandardScaler()\n",
    "        x_scld = std_.fit_transform(rep_)\n",
    "        pca = PCA(n_components=0.90)\n",
    "        pca.fit(x_scld)\n",
    "        x_ = pca.transform(x_scld)\n",
    "        # average to 16x16\n",
    "        x_16 = np.zeros((16,x_.shape[1]))\n",
    "        for ci in range(16):\n",
    "            x_16[ci] = np.mean(x_[ci*12:(ci+1)*12],axis=0)\n",
    "        rdm = 1-np.corrcoef(x_16.transpose(), rowvar=False)\n",
    "        filename = '_ind192to16_90_P{}_cdd0{}_L{}.npz'.format(str(sbj_list[sbj_idx]),str(cdd_n),str(li+1).zfill(2))\n",
    "        savepath = savebase + filename\n",
    "        np.savez(savepath, rdm=rdm)"
   ]
  },
  {
   "cell_type": "markdown",
   "metadata": {},
   "source": [
    "# Visualize CNN RDM"
   ]
  },
  {
   "cell_type": "code",
   "execution_count": null,
   "metadata": {
    "collapsed": true
   },
   "outputs": [],
   "source": [
    "# load rdms\n",
    "rdm_grp = np.zeros((sbjs_num,15,16,16))\n",
    "for li in depth:\n",
    "    for sbj_idx in range(sbjs_num):\n",
    "        filename = '_ind192to16_90_P{}_cdd0{}_L{}.npz'.format(str(sbj_list[sbj_idx]),str(cdd_n),str(li+1).zfill(2))\n",
    "        savepath = savebase + filename\n",
    "        rdm_grp[sbj_idx,li] = np.load(savepath)['rdm']\n",
    "# mask \n",
    "mask = np.zeros((16,16))\n",
    "mask[np.triu_indices_from(mask)] = True\n",
    "# title list\n",
    "tlist = []\n",
    "for li in range(1,14):\n",
    "    tlist.append('Conv '+str(li))\n",
    "tlist += ['FC','Output']\n",
    "# tickslabels\n",
    "labels = ['Zero','One','Two','Three','Four','Five','Six','Seven','Eight',\n",
    "          'Nine','Bed','Bird','Cat','Dog','House','Tree']\n",
    "# default font size\n",
    "plt.rcParams.update({'font.size': 20})"
   ]
  },
  {
   "cell_type": "code",
   "execution_count": null,
   "metadata": {
    "collapsed": true,
    "scrolled": true
   },
   "outputs": [],
   "source": [
    "# average\n",
    "avg_arr = np.mean(rdm_grp,axis=0)\n",
    "f,axes = plt.subplots(3,5, figsize=(38,20))\n",
    "ax = axes.flat\n",
    "for li in range(15):\n",
    "    ax[li].set_title(tlist[li],fontsize=40)\n",
    "    sns.heatmap(rdm_grp[sbj_idx][li],mask=mask,cmap='jet',ax=ax[li],xticklabels=labels,yticklabels=labels,square=True,cbar=True) #,vmin=0,vmax=2\n",
    "    plt.tight_layout()\n",
    "plt.show()\n",
    "plt.close()\n",
    "f,axes = plt.subplots(3,5, figsize=(38,20))\n",
    "ax = axes.flat\n",
    "for li in range(15):\n",
    "    ax[li].set_title(tlist[li],fontsize=40)\n",
    "    sns.heatmap(rdm_grp[sbj_idx][li],mask=mask,cmap='jet',ax=ax[li],xticklabels=labels,yticklabels=labels,square=True,vmin=0,vmax=2)\n",
    "    plt.tight_layout()\n",
    "plt.show()\n",
    "plt.close()"
   ]
  },
  {
   "cell_type": "code",
   "execution_count": null,
   "metadata": {
    "collapsed": true
   },
   "outputs": [],
   "source": [
    "plt.rcParams.update({'font.size': 8})"
   ]
  },
  {
   "cell_type": "code",
   "execution_count": null,
   "metadata": {
    "collapsed": true
   },
   "outputs": [],
   "source": [
    "# visualize PCs\n",
    "depth = range(13)\n",
    "for li in depth:\n",
    "    ft_dim = ft_dim_info[li]\n",
    "    chn = chn_info[li]\n",
    "    veclen = ft_dim**2*chn\n",
    "    rep_ = get_layer_rep(li,sbjs_imgs[0])\n",
    "    std_ = StandardScaler()\n",
    "    x_scld = std_.fit_transform(rep_)\n",
    "    pca = PCA(n_components=0.995)\n",
    "    pca.fit(x_scld)\n",
    "    pc_num = pca.components_.shape[0]\n",
    "    print(pc_num)\n",
    "    if pc_num>16:\n",
    "        pc_num =4\n",
    "    f,axes = plt.subplots(pc_num,4,figsize=(10,3*pc_num),constrained_layout=True)\n",
    "    f.suptitle('Conv '+str(li+1),fontsize=20)\n",
    "    for pi in range(pc_num):\n",
    "        tmp = pca.components_[pi].reshape(ft_dim,ft_dim,chn)\n",
    "        ch_rnd = random.sample(list(np.arange(chn)),4)\n",
    "        for ci in range(4):\n",
    "            axes[pi,ci].imshow(tmp[:,:,ch_rnd[ci]])\n",
    "            axes[pi,ci].set_title('PC '+str(pi+1)+' - Feature '+str(ch_rnd[ci]+1))\n",
    "            axes[pi,ci].axis('off')\n",
    "    plt.show()"
   ]
  }
 ],
 "metadata": {
  "kernelspec": {
   "display_name": "Python 3",
   "language": "python",
   "name": "python3"
  },
  "language_info": {
   "codemirror_mode": {
    "name": "ipython",
    "version": 3
   },
   "file_extension": ".py",
   "mimetype": "text/x-python",
   "name": "python",
   "nbconvert_exporter": "python",
   "pygments_lexer": "ipython3",
   "version": "3.6.3"
  }
 },
 "nbformat": 4,
 "nbformat_minor": 2
}
