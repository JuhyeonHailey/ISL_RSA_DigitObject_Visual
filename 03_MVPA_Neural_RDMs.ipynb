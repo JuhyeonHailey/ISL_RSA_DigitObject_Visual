{
 "cells": [
  {
   "cell_type": "code",
   "execution_count": 1,
   "metadata": {
    "collapsed": true
   },
   "outputs": [],
   "source": [
    "import os.path as pth\n",
    "from scipy import io\n",
    "from numba import jit\n",
    "from scipy import stats\n",
    "import nibabel as nib\n",
    "import numpy as np\n",
    "import datetime"
   ]
  },
  {
   "cell_type": "code",
   "execution_count": 2,
   "metadata": {
    "collapsed": true
   },
   "outputs": [],
   "source": [
    "@jit(nopython=True, cache=True, fastmath=True)\n",
    "def make_sphere_array(radius):\n",
    "    arr = np.full((2*radius+1,2*radius+1,2*radius+1), False)\n",
    "    x0, y0, z0 = int(arr.shape[0]/2),int(arr.shape[1]/2),int(arr.shape[2]/2)\n",
    "    for x in range(x0-radius, x0+radius+1):\n",
    "        for y in range(y0-radius, y0+radius+1):\n",
    "                for z in range(z0-radius, z0+radius+1):\n",
    "                    deb = np.linalg.norm(np.array([x0-x, y0-y, z0-z], dtype=np.float32))\n",
    "                    arr[x,y,z] = True if deb <= radius else False\n",
    "    return arr\n",
    "\n",
    "def search_light_analysis(data, radius, search_area=None, post_func=None):\n",
    "    search_area = data if search_area is None else search_area \n",
    "    post_func = (lambda x:x) if post_func is None else post_func\n",
    "    sphere_mask = make_sphere_array(radius)\n",
    "    for x0 in range(radius, data.shape[0]-radius):\n",
    "        for y0 in range(radius, data.shape[1]-radius):\n",
    "            for z0 in range(radius, data.shape[2]-radius):\n",
    "                if search_area[x0,y0,z0]:\n",
    "                    target_area = data[x0-radius:x0+radius+1,y0-radius:y0+radius+1,z0-radius:z0+radius+1].copy()\n",
    "                    available_mask = (target_area.sum(axis=3)!=0) & sphere_mask\n",
    "                    if np.any(available_mask): # np.all : mask 아닌 영역이 있어도 계산 \n",
    "                        values = target_area[available_mask]\n",
    "                        result = post_func(values)\n",
    "                        yield result, (x0,y0,z0)\n",
    "                        \n",
    "def load_brain_data(glm_result_path, run_index):\n",
    "    run_str = 'r'+str(run_index+1).zfill(2)\n",
    "    glm_result_path = pth.join(sbj_path, run_str, 'rst_sti_pc3_spmg1_re')\n",
    "    head_filename = pth.join(glm_result_path, 'stats.afni_rst+tlrc.HEAD')\n",
    "    head = nib.load(head_filename)\n",
    "    return head.get_fdata()"
   ]
  },
  {
   "cell_type": "code",
   "execution_count": 3,
   "metadata": {
    "collapsed": true
   },
   "outputs": [],
   "source": [
    "mod = 'i'\n",
    "data_base_path = pth.join('/data', '01_experiment_data', 'image_sound', 'prep_new_template')\n",
    "label_list = ['zero', 'one', 'two', 'three', 'four', 'five', 'six', 'seven',\n",
    "                'eight', 'nine', 'bed', 'bird', 'cat', 'dog', 'house', 'tree']\n",
    "affine = np.array([[   3. ,   -0. ,   -0. ,  -94.5],\n",
    "       [  -0. ,    3. ,   -0. , -130.5],\n",
    "       [   0. ,    0. ,    3. ,  -76.5],\n",
    "       [   0. ,    0. ,    0. ,    1. ]])"
   ]
  },
  {
   "cell_type": "code",
   "execution_count": 4,
   "metadata": {
    "collapsed": true
   },
   "outputs": [],
   "source": [
    "base = '/users/jmy/data/image_sound'\n",
    "hcp = nib.load('/users/jmy/data/MNI_reference/hcp_360_3mm_64.nii').get_fdata()\n",
    "hcp_bn = (hcp != 0).astype(int)"
   ]
  },
  {
   "cell_type": "code",
   "execution_count": 5,
   "metadata": {},
   "outputs": [
    {
     "name": "stdout",
     "output_type": "stream",
     "text": [
      "25 MIN: 42 MEAN: 110.34 STD: 18.76 8218 less than 100 AMONG 33996\n",
      "26 MIN: 37 MEAN: 110.34 STD: 18.86 8008 less than 100 AMONG 32972\n",
      "29 MIN: 41 MEAN: 110.36 STD: 18.86 7891 less than 100 AMONG 32611\n",
      "30 MIN: 38 MEAN: 110.31 STD: 18.86 8032 less than 100 AMONG 33199\n",
      "31 MIN: 40 MEAN: 110.40 STD: 18.80 7984 less than 100 AMONG 33130\n",
      "32 MIN: 37 MEAN: 110.48 STD: 18.72 8023 less than 100 AMONG 33576\n",
      "33 MIN: 38 MEAN: 110.32 STD: 18.78 8232 less than 100 AMONG 33942\n",
      "34 MIN: 32 MEAN: 110.16 STD: 18.98 8061 less than 100 AMONG 32742\n",
      "37 MIN: 40 MEAN: 110.34 STD: 18.82 8039 less than 100 AMONG 33334\n",
      "38 MIN: 42 MEAN: 110.43 STD: 18.73 8166 less than 100 AMONG 34123\n",
      "39 MIN: 39 MEAN: 110.32 STD: 18.84 8074 less than 100 AMONG 33417\n",
      "40 MIN: 38 MEAN: 110.28 STD: 18.85 8195 less than 100 AMONG 33739\n",
      "41 MIN: 42 MEAN: 110.37 STD: 18.78 8176 less than 100 AMONG 33926\n",
      "43 MIN: 37 MEAN: 110.41 STD: 18.79 7955 less than 100 AMONG 33082\n",
      "44 MIN: 31 MEAN: 110.31 STD: 18.93 7793 less than 100 AMONG 32253\n"
     ]
    }
   ],
   "source": [
    "sbj_list = [25,26,29,30,31,32,33,34,37,38,39,40,41,43,44]\n",
    "for sbj_idx in sbj_list:\n",
    "    sbj_path = pth.join(data_base_path, 's'+str(sbj_idx))\n",
    "    mat_file = io.loadmat(pth.join(sbj_path, 'stimuli', 'run_order.mat'))\n",
    "\n",
    "    betas = np.zeros((64,76,64,192))\n",
    "    idx_list = []\n",
    "    idx2sortb = np.zeros((192),dtype=int)\n",
    "    for runi in range(3):\n",
    "        betas[:,:,:,64*runi:64*(runi+1)] = load_brain_data(sbj_path, runi)[:,:,:,1:][:,:,:,[3*i for i in range(192)]][:,:,:,64:128]\n",
    "        key_ = 'run'+str(runi+1)\n",
    "        idx_list += [v.strip() for v in mat_file[key_] if v.startswith('i_')]\n",
    "    idx_arr = np.array(idx_list)\n",
    "    for li, label in enumerate(label_list):\n",
    "        label_idx = [i for i,v in enumerate(idx_arr) if v[2:].startswith(label)]\n",
    "        sort_idx = np.argsort(np.array([v[2+len(label):] for v in idx_arr[label_idx]],dtype=int))\n",
    "        idx2sortb[li*12:(li+1)*12] = np.array(label_idx)[sort_idx]\n",
    "    betas = betas[:,:,:,(idx2sortb)]\n",
    "    beta_msk = np.where(np.sum((betas!=0),axis=3)==192)\n",
    "    beta_vec = betas[beta_msk] # nvv,192\n",
    "    for voli in range(192): # zscore\n",
    "        beta_vec[:,voli] = stats.zscore(beta_vec[:,voli])\n",
    "    down_vec = np.zeros((beta_vec.shape[0],16),)\n",
    "    for ci in range(16):\n",
    "        tmpvecs = beta_vec[:,ci*12:(ci+1)*12]\n",
    "        down_vec[:,ci] = np.mean(tmpvecs,axis=1)\n",
    "    down_betas = np.zeros((64,76,64,16))\n",
    "    down_betas[beta_msk] = down_vec\n",
    "\n",
    "    mask = hcp_bn.copy()\n",
    "    tmp = np.sum((down_betas!=0),axis=3)\n",
    "    mask[np.where(tmp<16)] = 0 \n",
    "\n",
    "    brain_inform_list = [inform for inform in search_light_analysis(down_betas,radius=3,search_area=mask)]\n",
    "    nvv = len(brain_inform_list)\n",
    "    brain_rdm = np.zeros((nvv,16,16))\n",
    "    cnt_info = np.zeros((nvv),dtype=int)\n",
    "    for vi in range(nvv): \n",
    "        tp = brain_inform_list[vi][0] # ?,192\n",
    "        tp2 = 1-np.corrcoef(tp, rowvar=False)\n",
    "        brain_rdm[vi] = tp2\n",
    "        cnt_info[vi] = tp.shape[0]\n",
    "    #save brain_rdm\n",
    "    savepath = base+'/RDMs/Neural/16x16/P'+str(sbj_idx)+'_{}.npz'.format(mod)\n",
    "    np.savez(savepath, **{'rdm':brain_rdm, 'info_list':brain_inform_list})\n",
    "    print(sbj_idx,'MIN:',cnt_info.min(),'MEAN: %.2f'%cnt_info.mean(),'STD: %.2f'%cnt_info.std(),np.where(cnt_info<100)[0].shape[0],'less than 100 AMONG', nvv)"
   ]
  }
 ],
 "metadata": {
  "kernelspec": {
   "display_name": "Python 3",
   "language": "python",
   "name": "python3"
  },
  "language_info": {
   "codemirror_mode": {
    "name": "ipython",
    "version": 3
   },
   "file_extension": ".py",
   "mimetype": "text/x-python",
   "name": "python",
   "nbconvert_exporter": "python",
   "pygments_lexer": "ipython3",
   "version": "3.6.3"
  }
 },
 "nbformat": 4,
 "nbformat_minor": 4
}
