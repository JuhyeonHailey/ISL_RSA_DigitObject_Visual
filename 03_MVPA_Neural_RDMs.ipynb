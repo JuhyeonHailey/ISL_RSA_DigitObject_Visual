{
 "cells": [
  {
   "cell_type": "code",
   "execution_count": null,
   "metadata": {
    "collapsed": true
   },
   "outputs": [],
   "source": [
    "from numba import jit\n",
    "import numpy as np"
   ]
  },
  {
   "cell_type": "code",
   "execution_count": null,
   "metadata": {
    "collapsed": true
   },
   "outputs": [],
   "source": [
    "@jit(nopython=True, cache=True, fastmath=True)\n",
    "def make_sphere_array(radius):\n",
    "    arr = np.full((2*radius+1,2*radius+1,2*radius+1), False)\n",
    "    x0, y0, z0 = int(arr.shape[0]/2),int(arr.shape[1]/2),int(arr.shape[2]/2)\n",
    "    for x in range(x0-radius, x0+radius+1):\n",
    "        for y in range(y0-radius, y0+radius+1):\n",
    "                for z in range(z0-radius, z0+radius+1):\n",
    "                    deb = np.linalg.norm(np.array([x0-x, y0-y, z0-z], dtype=np.float32))\n",
    "                    arr[x,y,z] = True if deb <= radius else False\n",
    "    return arr\n",
    "\n",
    "def search_light_analysis(data, radius, search_area=None, post_func=None):\n",
    "    search_area = data if search_area is None else search_area \n",
    "    post_func = (lambda x:x) if post_func is None else post_func\n",
    "    sphere_mask = make_sphere_array(radius)\n",
    "    for x0 in range(radius, data.shape[0]-radius):\n",
    "        for y0 in range(radius, data.shape[1]-radius):\n",
    "            for z0 in range(radius, data.shape[2]-radius):\n",
    "                if search_area[x0,y0,z0]:\n",
    "                    target_area = data[x0-radius:x0+radius+1,y0-radius:y0+radius+1,z0-radius:z0+radius+1].copy()\n",
    "                    available_mask = (target_area.sum(axis=3)!=0) & sphere_mask\n",
    "                    if np.any(available_mask):\n",
    "                        values = target_area[available_mask]\n",
    "                        result = post_func(values)\n",
    "                        yield result, (x0,y0,z0)"
   ]
  },
  {
   "cell_type": "code",
   "execution_count": null,
   "metadata": {
    "collapsed": true,
    "scrolled": true
   },
   "outputs": [],
   "source": [
    "# Load brain data\n",
    "beta = np.load('Sample_fMRI_data.npz')['beta']\n",
    "\n",
    "# Define mask\n",
    "mask = np.ones((beta.shape[:3]))\n",
    "tmp = np.sum((beta!=0),axis=3)\n",
    "mask[(tmp<16)] = 0\n",
    "\n",
    "# Searchlight\n",
    "brain_inform_list = [inform for inform in search_light_analysis(beta,radius=3,search_area=mask)]\n",
    "nvv = len(brain_inform_list) # number of valid voxels\n",
    "brain_rdm = np.zeros((nvv,16,16))\n",
    "cnt_info = np.zeros((nvv),dtype=int)\n",
    "for vi in range(nvv): \n",
    "    tp = brain_inform_list[vi][0] # nvv,192\n",
    "    tp2 = 1-np.corrcoef(tp, rowvar=False)\n",
    "    brain_rdm[vi] = tp2\n",
    "    cnt_info[vi] = tp.shape[0]\n",
    "    \n",
    "# Save brain_rdm\n",
    "savepath = 'Sample_Neural_RDM.npz'\n",
    "np.savez(savepath, **{'rdm':brain_rdm, 'info_list':brain_inform_list})"
   ]
  }
 ],
 "metadata": {
  "kernelspec": {
   "display_name": "Python 3",
   "language": "python",
   "name": "python3"
  },
  "language_info": {
   "codemirror_mode": {
    "name": "ipython",
    "version": 3
   },
   "file_extension": ".py",
   "mimetype": "text/x-python",
   "name": "python",
   "nbconvert_exporter": "python",
   "pygments_lexer": "ipython3",
   "version": "3.6.3"
  }
 },
 "nbformat": 4,
 "nbformat_minor": 4
}
