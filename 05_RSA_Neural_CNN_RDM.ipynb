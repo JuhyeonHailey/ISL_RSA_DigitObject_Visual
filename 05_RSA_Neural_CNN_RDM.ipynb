{
 "cells": [
  {
   "cell_type": "code",
   "execution_count": null,
   "metadata": {
    "collapsed": true
   },
   "outputs": [],
   "source": [
    "import os\n",
    "import numpy as np\n",
    "import nibabel as nib\n",
    "from scipy import stats\n",
    "import matplotlib.pyplot as plt\n",
    "import seaborn as sns\n",
    "%matplotlib inline"
   ]
  },
  {
   "cell_type": "code",
   "execution_count": null,
   "metadata": {
    "collapsed": true
   },
   "outputs": [],
   "source": [
    "base = '/users/jmy/data/image_sound'\n",
    "sbjs_num = 15\n",
    "sbj_list = [25,26,29,30,31,32,33,34,37,38,39,40,41,43,44]\n",
    "affine = np.array([[   3. ,   -0. ,   -0. ,  -94.5],\n",
    "       [  -0. ,    3. ,   -0. , -130.5],\n",
    "       [   0. ,    0. ,    3. ,  -76.5],\n",
    "       [   0. ,    0. ,    0. ,    1. ]])"
   ]
  },
  {
   "cell_type": "code",
   "execution_count": null,
   "metadata": {
    "collapsed": true
   },
   "outputs": [],
   "source": [
    "# Load CNN RDM\n",
    "cdd_n, epoc = 5, 56\n",
    "depth = 15\n",
    "cnnrdms = np.zeros((sbjs_num,depth,16,16))\n",
    "for li in range(depth):\n",
    "    for sbj_idx in range(sbjs_num):\n",
    "        filename = '_ind192to16_90_P{}_cdd0{}_L{}.npz'.format(str(sbj_list[sbj_idx]),str(cdd_n),str(li+1).zfill(2))\n",
    "        savepath = base + '/RDMs/CNN/PCA/16x16/' + filename\n",
    "        cnnrdms[sbj_idx,li] = np.load(savepath)['rdm']"
   ]
  },
  {
   "cell_type": "code",
   "execution_count": null,
   "metadata": {
    "collapsed": true
   },
   "outputs": [],
   "source": [
    "def rsa(stim_type,cnnrdm):\n",
    "    iu = np.triu_indices(16,1)\n",
    "    rho, p = stats.spearmanr(roirdm[iu],cnnrdm[iu])\n",
    "    return rho, p \n",
    "\n",
    "def save_nifti(vol, savepath):\n",
    "    img1 = nib.Nifti1Image(vol,affine=affine)\n",
    "    nib.save(img1,savepath)"
   ]
  },
  {
   "cell_type": "markdown",
   "metadata": {},
   "source": [
    "# Radius 3"
   ]
  },
  {
   "cell_type": "code",
   "execution_count": null,
   "metadata": {
    "collapsed": true
   },
   "outputs": [],
   "source": [
    "sv_key= 'PCA3_90'\n",
    "savebase = base+'/RSA_Wholebrain_CNN/'+sv_key\n",
    "# os.makedirs(savebase)"
   ]
  },
  {
   "cell_type": "code",
   "execution_count": null,
   "metadata": {
    "collapsed": true
   },
   "outputs": [],
   "source": [
    "import time\n",
    "for sbj_idx in range(15): #25,39\n",
    "    start_time = time.time()\n",
    "    # load brain rdm\n",
    "    load_path = base+'/RDMs/Neural/16x16/P'+str(sbj_list[sbj_idx])+'_i.npz' # r3\n",
    "    l = np.load(load_path,allow_pickle=True)\n",
    "    brain_rdm = l['rdm']\n",
    "    brain_inform_list = l['info_list']\n",
    "    nvv = brain_rdm.shape[0]\n",
    "    type_, stim_type = 'Vs', 'etr'\n",
    "    for li in range(15):\n",
    "        vol_rho = np.zeros((64,76,64))\n",
    "        vol_p = np.zeros((64,76,64))\n",
    "        for vi in range(nvv):\n",
    "            idx = brain_inform_list[vi][1]\n",
    "            roirdm = brain_rdm[vi]\n",
    "            vol_rho[idx], vol_p[idx] = rsa(stim_type,cnnrdms[sbj_idx,li])\n",
    "        save_nifti(vol_rho,savebase+'/P'+str(sbj_list[sbj_idx])+'_rho_'+type_+'_'+stim_type+'_L'+str(li+1)+'.nii')\n",
    "        save_nifti(vol_p,savebase+'/P'+str(sbj_list[sbj_idx])+'_pvl_'+type_+'_'+stim_type+'_L'+str(li+1)+'.nii')"
   ]
  },
  {
   "cell_type": "code",
   "execution_count": null,
   "metadata": {
    "collapsed": true
   },
   "outputs": [],
   "source": [
    "# grp layer map\n",
    "arr_all = np.zeros((sbjs_num,depth,64,76,64))\n",
    "for sbj_idx in range(sbjs_num):\n",
    "    type_, stim_type = 'Vs', 'etr'\n",
    "    for li in range(15):\n",
    "        arr_all[sbj_idx,li] = nib.load(savebase+'/P'+str(sbj_list[sbj_idx])+'_rho_'+type_+'_'+stim_type+'_L'+str(li+1)+'.nii').get_fdata()"
   ]
  },
  {
   "cell_type": "code",
   "execution_count": null,
   "metadata": {
    "collapsed": true,
    "scrolled": true
   },
   "outputs": [],
   "source": [
    "# mask \n",
    "intsec_masks = np.zeros((depth,64,76,64))\n",
    "for li in range(15):\n",
    "    vol_sum = np.sum((arr_all[:,li]!=0),axis=0)\n",
    "    its_idx = np.where(vol_sum == sbjs_num)\n",
    "    intsec_masks[li][its_idx] = 1"
   ]
  },
  {
   "cell_type": "code",
   "execution_count": null,
   "metadata": {
    "collapsed": true
   },
   "outputs": [],
   "source": [
    "def vec2vol(vec,msk_idx):\n",
    "    vol = np.zeros((64,76,64))\n",
    "    vol[msk_idx] = vec\n",
    "    return vol"
   ]
  },
  {
   "cell_type": "code",
   "execution_count": null,
   "metadata": {
    "collapsed": true
   },
   "outputs": [],
   "source": [
    "os.makedirs(savebase+'/Group')"
   ]
  },
  {
   "cell_type": "code",
   "execution_count": null,
   "metadata": {
    "collapsed": true
   },
   "outputs": [],
   "source": [
    "for li in range(depth):\n",
    "    msk_idx = np.where(intsec_masks[li]==1)\n",
    "    nvv = msk_idx[0].shape[0]\n",
    "    tmparr = arr_all[:,li]\n",
    "    # t-test for significance test\n",
    "    #r to z\n",
    "    vecs = np.arctanh(tmparr.transpose(1,2,3,0)[msk_idx])\n",
    "    # t-test\n",
    "    tmpt = np.zeros((nvv))\n",
    "    tmpp = np.zeros((nvv))\n",
    "    for vi, vec in enumerate(vecs):\n",
    "        tmpt[vi], tmpp[vi] = stats.ttest_1samp(vec,0.)\n",
    "    # save tmap, pmap\n",
    "    save_nifti(vec2vol(tmpt,msk_idx),savebase+'/Group/tmap_'+type_+'_'+stim_type+'_L'+str(li+1)+'.nii')\n",
    "    save_nifti(vec2vol(tmpp,msk_idx),savebase+'/Group/t-pmap_'+type_+'_'+stim_type+'_L'+str(li+1)+'.nii')"
   ]
  },
  {
   "cell_type": "markdown",
   "metadata": {},
   "source": [
    "# p-value correction"
   ]
  },
  {
   "cell_type": "code",
   "execution_count": null,
   "metadata": {
    "collapsed": true
   },
   "outputs": [],
   "source": [
    "import os\n",
    "import scipy\n",
    "from tqdm import tqdm\n",
    "from multiprocessing import Pool, Lock"
   ]
  },
  {
   "cell_type": "code",
   "execution_count": null,
   "metadata": {
    "collapsed": true
   },
   "outputs": [],
   "source": [
    "sbj_idx_ = np.arange(sbjs_num)"
   ]
  },
  {
   "cell_type": "code",
   "execution_count": null,
   "metadata": {
    "collapsed": true
   },
   "outputs": [],
   "source": [
    "# using multi core\n",
    "p_cnt = 64 # number of cores "
   ]
  },
  {
   "cell_type": "code",
   "execution_count": null,
   "metadata": {
    "collapsed": true
   },
   "outputs": [],
   "source": [
    "for li in range(depth):\n",
    "    msk_idx = np.where(intsec_masks[li]==1)\n",
    "    nvv = msk_idx[0].shape[0]\n",
    "    run_cnt = int(nvv*5000/p_cnt)\n",
    "    idx2shf = np.arange(nvv)\n",
    "    tmparr = arr_all[:,li]\n",
    "    # t-test for significance test\n",
    "    #r to z\n",
    "    vecs = np.arctanh(tmparr.transpose(1,2,3,0)[msk_idx])\n",
    "    p_out = []\n",
    "    boot_ts = np.zeros((1))\n",
    "    def ttest_Rndperm(self):\n",
    "        global sbj_idx_, vecs, boot_ts\n",
    "        scipy.random.seed(int.from_bytes(os.urandom(3), byteorder='little'))\n",
    "        rnd_idx = np.random.choice(idx2shf,sbjs_num,replace=False)\n",
    "        boot_ts, _ = stats.ttest_1samp(vecs[rnd_idx,sbj_idx_],0.)\n",
    "        return boot_ts\n",
    "    if __name__=='__main__':\n",
    "        p = Pool(processes = p_cnt) # 25\n",
    "        for i in tqdm(range(run_cnt), desc='Total Progress') : # 400\n",
    "            p_out.append(p.map(ttest_Rndperm, range(p_cnt))) # 25\n",
    "        p.close()\n",
    "        p.join()\n",
    "    pooled_ts = np.array(p_out,dtype=np.float16).reshape(p_cnt*run_cnt)\n",
    "    sns.distplot(pooled_ts)\n",
    "    plt.title(type_)\n",
    "    plt.show()\n",
    "    # save\n",
    "    np.savez(savebase+'/Group/rndperm_tscore_'+type_+'L'+str(li)+'_r3.npz',pooled_ts=pooled_ts)"
   ]
  }
 ],
 "metadata": {
  "kernelspec": {
   "display_name": "Python 3",
   "language": "python",
   "name": "python3"
  },
  "language_info": {
   "codemirror_mode": {
    "name": "ipython",
    "version": 3
   },
   "file_extension": ".py",
   "mimetype": "text/x-python",
   "name": "python",
   "nbconvert_exporter": "python",
   "pygments_lexer": "ipython3",
   "version": "3.6.3"
  }
 },
 "nbformat": 4,
 "nbformat_minor": 4
}
