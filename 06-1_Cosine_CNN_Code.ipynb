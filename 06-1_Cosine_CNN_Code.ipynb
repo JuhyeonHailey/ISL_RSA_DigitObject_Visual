{
 "cells": [
  {
   "cell_type": "code",
   "execution_count": null,
   "metadata": {
    "collapsed": true
   },
   "outputs": [],
   "source": [
    "import numpy as np\n",
    "from numpy.linalg import norm\n",
    "import matplotlib.pyplot as plt\n",
    "import seaborn as sns\n",
    "%matplotlib inline\n",
    "plt.rcParams.update({'font.size': 12})"
   ]
  },
  {
   "cell_type": "code",
   "execution_count": null,
   "metadata": {
    "collapsed": true
   },
   "outputs": [],
   "source": [
    "# RDM codes for each condition\n",
    "# Digit recognition code\n",
    "dgt_cd = np.zeros((16,16))\n",
    "dgt_cd[:10,:10] = 1\n",
    "\n",
    "# Object recognition code\n",
    "obj_cd = np.zeros((16,16))\n",
    "obj_cd[10:,10:] = 1\n",
    "\n",
    "# Digit vs. Object code\n",
    "vs_cd = np.zeros((16,16))\n",
    "vs_cd[:10,10:] = 1\n",
    "vs_cd[10:,:10] = 1\n",
    "\n",
    "# Magnitude code\n",
    "mag_cd = np.zeros((16,16))\n",
    "mag_cd[7:10,1:4] = 1\n",
    "\n",
    "# Animacy code\n",
    "ani_cd = np.zeros((16,16))\n",
    "ani_cd[13:,10:13] = 1\n",
    "\n",
    "cds_list = [dgt_cd,obj_cd,vs_cd,mag_cd,ani_cd]\n",
    "num_cds = len(cds_list)"
   ]
  },
  {
   "cell_type": "code",
   "execution_count": null,
   "metadata": {
    "collapsed": true
   },
   "outputs": [],
   "source": [
    "# Load CNN RDMs \n",
    "depth = 15\n",
    "cnnrdms = np.load('Sample_CNN_RDM.npz')['cnnrdms'] # This sample data was saved from '04_RSA_From_CNN_Perspective' "
   ]
  },
  {
   "cell_type": "code",
   "execution_count": null,
   "metadata": {
    "collapsed": true
   },
   "outputs": [],
   "source": [
    "# Preparing plot\n",
    "sns.set(style='dark',font_scale=1.3)\n",
    "col_list = sns.color_palette('Spectral_r',depth)\n",
    "col_arr = np.array(col_list)\n",
    "xticks = np.arange(depth)\n",
    "xlabels=['1','2','3','4','5','6','7','8','9','10','11','12','13','Fc','Out\\nput']\n",
    "tt_list = ['Digit recognition','Object recognition','Digit vs. Object','Magnitude of digits','Animacy of objects'] # Title list"
   ]
  },
  {
   "cell_type": "code",
   "execution_count": null,
   "metadata": {
    "collapsed": true
   },
   "outputs": [],
   "source": [
    "# Define function\n",
    "def rdm_reord(org):\n",
    "    new = org.copy()\n",
    "    new[10:15,10:15] = org[11:,11:]\n",
    "    new[15,15] = org[10,10]\n",
    "    new[-1,10:15] = org[10,11:]\n",
    "    new[10:15,-1] = org[11:,10]\n",
    "    return new\n",
    "\n",
    "def cos_sim(A, B): # Calculate cosine similarity\n",
    "    return np.dot(A, B)/(norm(A)*norm(B))\n",
    "    \n",
    "def cnn_rdm_cos(cd, cnnrdms):\n",
    "    summ_arr = np.zeros((depth))\n",
    "    il = np.tril_indices(16,-1)\n",
    "    for li, layrdm in enumerate(cnnrdms):\n",
    "        summ_arr[li] = cos_sim(cd[il],rdm_reord(layrdm)[il])\n",
    "    return summ_arr\n",
    "\n",
    "def plot_corr_bar(summ_arr):\n",
    "    f, axes = plt.subplots(1,1,figsize=(6,4),facecolor='white',constrained_layout=True)\n",
    "    axes.set_title(tt_list[ci],fontsize=20)\n",
    "    axes.bar(xticks,summ_arr,color=col_arr,width=0.9,error_kw=dict(lw=1.2),ecolor='k',linewidth=1.5)\n",
    "    axes.set_xticks(xticks)\n",
    "    axes.set_xticklabels(xlabels)\n",
    "    axes.set_xlabel('CNN layer')\n",
    "    axes.set_ylabel('Cosine similarity')\n",
    "    plt.show()"
   ]
  },
  {
   "cell_type": "code",
   "execution_count": null,
   "metadata": {
    "collapsed": true,
    "scrolled": true
   },
   "outputs": [],
   "source": [
    "for ci,cd in enumerate(cds_list):\n",
    "    summ_arr = cnn_rdm_cos(cd, cnnrdms)\n",
    "    plot_corr_bar(summ_arr)"
   ]
  }
 ],
 "metadata": {
  "kernelspec": {
   "display_name": "Python 3",
   "language": "python",
   "name": "python3"
  },
  "language_info": {
   "codemirror_mode": {
    "name": "ipython",
    "version": 3
   },
   "file_extension": ".py",
   "mimetype": "text/x-python",
   "name": "python",
   "nbconvert_exporter": "python",
   "pygments_lexer": "ipython3",
   "version": "3.6.3"
  }
 },
 "nbformat": 4,
 "nbformat_minor": 4
}
