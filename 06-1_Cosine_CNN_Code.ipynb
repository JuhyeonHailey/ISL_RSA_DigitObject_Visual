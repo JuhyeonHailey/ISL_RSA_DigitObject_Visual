{
 "cells": [
  {
   "cell_type": "code",
   "execution_count": null,
   "metadata": {
    "collapsed": true
   },
   "outputs": [],
   "source": [
    "import os\n",
    "import numpy as np\n",
    "import nibabel as nib\n",
    "from scipy import stats\n",
    "import matplotlib.pyplot as plt\n",
    "import seaborn as sns\n",
    "%matplotlib inline\n",
    "plt.rcParams.update({'font.size': 12})"
   ]
  },
  {
   "cell_type": "code",
   "execution_count": null,
   "metadata": {
    "collapsed": true
   },
   "outputs": [],
   "source": [
    "base = '/users/jmy/data/image_sound'\n",
    "sbjs_num = 15\n",
    "sbj_list = [25,26,29,30,31,32,33,34,37,38,39,40,41,43,44]\n",
    "interest_list = ['Digit','Object','Vs','Magnitude','Animacy']\n",
    "stim_type_list = ['etr0']#'etr'"
   ]
  },
  {
   "cell_type": "code",
   "execution_count": null,
   "metadata": {
    "collapsed": true
   },
   "outputs": [],
   "source": [
    "# RDM codes\n",
    "dgt_cd = np.zeros((16,16))\n",
    "dgt_cd[:10,:10] = 1\n",
    "obj_cd = np.zeros((16,16))\n",
    "obj_cd[10:,10:] = 1\n",
    "vs_cd = np.zeros((16,16))\n",
    "vs_cd[:10,10:] = 1\n",
    "vs_cd[10:,:10] = 1\n",
    "mag_cd = np.zeros((16,16))\n",
    "mag_cd[7:10,1:4] = 1\n",
    "ani_cd = np.zeros((16,16))\n",
    "ani_cd[13:,10:13] = 1\n",
    "cds_list = [dgt_cd,obj_cd,vs_cd,ani_cd,mag_cd]"
   ]
  },
  {
   "cell_type": "code",
   "execution_count": null,
   "metadata": {
    "collapsed": true
   },
   "outputs": [],
   "source": [
    "# Preparing plot\n",
    "sns.set(style='dark',font_scale=1.3)\n",
    "col_list = sns.color_palette('Spectral_r',15)\n",
    "col_arr = np.array(col_list)\n",
    "xticks = np.arange(15)\n",
    "xlabels=['1','2','3','4','5','6','7','8','9','10','11','12','13','Fc','Out\\nput']\n",
    "tt_list = ['Digit','Object','Digit vs. Object','Magnitude','Animacy']"
   ]
  },
  {
   "cell_type": "code",
   "execution_count": null,
   "metadata": {
    "collapsed": true
   },
   "outputs": [],
   "source": [
    "def rdm_reord(org):\n",
    "    new = org.copy()\n",
    "    new[10:15,10:15] = org[11:,11:]\n",
    "    new[15,15] = org[10,10]\n",
    "    new[-1,10:15] = org[10,11:]\n",
    "    new[10:15,-1] = org[11:,10]\n",
    "    return new\n",
    "\n",
    "def plot_corr_bar(grp,ylim=None,ysp=None,capsize=0,corr_type='Spear',std=False):\n",
    "    grp_mean = np.mean(grp,axis=0)\n",
    "    if std:\n",
    "        grp_sted = np.std(grp,axis=0)\n",
    "    else:\n",
    "        grp_sted = np.std(grp,axis=0) / (15**0.5)\n",
    "    f, axes = plt.subplots(1,1,figsize=(6,4),facecolor='white',constrained_layout=True)\n",
    "    axes.bar(xticks,grp_mean,color=col_arr,width=0.9,\n",
    "                yerr=grp_sted,error_kw=dict(lw=1.2),ecolor='k',linewidth=1.5,capsize=capsize)\n",
    "    axes.set_xticks(xticks)\n",
    "    axes.set_xticklabels(xlabels)\n",
    "    if ylim != None:\n",
    "        axes.set_yticks(np.arange(ylim[0],ylim[1]+0.1,ysp))\n",
    "    if corr_type == 'Spear':\n",
    "        ylabel = \"Spearman's \"+r\"$\\rho$\"\n",
    "    elif corr_type == 'None':\n",
    "        ylabel = \"Similarity score\"\n",
    "    elif corr_type == 'Cos':\n",
    "        ylabel = \"Cosine similarity\"\n",
    "    else:\n",
    "        ylabel = \"Pearson's \"+r\"$\\mathit{r}$\"\n",
    "    axes.set_xlabel('CNN layer', font=fpath)\n",
    "    axes.set_ylabel(ylabel, font=fpath)\n",
    "    plt.show()"
   ]
  },
  {
   "cell_type": "markdown",
   "metadata": {},
   "source": [
    "# PCA3"
   ]
  },
  {
   "cell_type": "code",
   "execution_count": null,
   "metadata": {
    "collapsed": true
   },
   "outputs": [],
   "source": [
    "# Load CNN RDM\n",
    "cdd_n, epoc = 5, 56\n",
    "depth = 15\n",
    "cnnrdms = np.zeros((sbjs_num,depth,16,16))\n",
    "for li in range(depth):\n",
    "    for sbj_idx in range(sbjs_num):\n",
    "        filename = '_ind192to16_90_P{}_cdd0{}_L{}.npz'.format(str(sbj_list[sbj_idx]),str(cdd_n),str(li+1).zfill(2))\n",
    "        savepath = base + '/RDMs/CNN/PCA/16x16/' + filename\n",
    "        cnnrdms[sbj_idx,li] = np.load(savepath)['rdm']"
   ]
  },
  {
   "cell_type": "markdown",
   "metadata": {},
   "source": [
    "# Cosine Similarity"
   ]
  },
  {
   "cell_type": "code",
   "execution_count": null,
   "metadata": {
    "collapsed": true
   },
   "outputs": [],
   "source": [
    "stim_type_list_summ = ['dig','obj','offd','mag','ani']\n",
    "tt_list = ['Digit recognition','Object recognition','Digit vs. Object','Magnitude of digits','Animacy of objects']"
   ]
  },
  {
   "cell_type": "code",
   "execution_count": null,
   "metadata": {
    "collapsed": true
   },
   "outputs": [],
   "source": [
    "from numpy.linalg import norm\n",
    "def cos_sim(A, B):\n",
    "       return np.dot(A, B)/(norm(A)*norm(B))"
   ]
  },
  {
   "cell_type": "code",
   "execution_count": null,
   "metadata": {
    "collapsed": true
   },
   "outputs": [],
   "source": [
    "def cnn_rdm_cos2(cnnrdms,stim_type):\n",
    "    cnnrdm = cnnrdms[sbj_idx]\n",
    "    summ_arr = np.zeros((depth))\n",
    "    il = np.tril_indices(16,-1)\n",
    "    for li, layrdm in enumerate(cnnrdm):\n",
    "        summ_arr[li] = cos_sim(cd[il],rdm_reord(layrdm)[il])\n",
    "    return summ_arr"
   ]
  },
  {
   "cell_type": "code",
   "execution_count": null,
   "metadata": {
    "collapsed": true
   },
   "outputs": [],
   "source": [
    "from pathlib import Path\n",
    "import matplotlib as mpl\n",
    "fpath = Path(mpl.get_data_path(), \"/users/jmy/data/image_sound/arial.ttf\")"
   ]
  },
  {
   "cell_type": "code",
   "execution_count": null,
   "metadata": {
    "scrolled": true
   },
   "outputs": [],
   "source": [
    "for ci,cd in enumerate(cds_list):\n",
    "    grp = np.zeros((sbjs_num, depth))\n",
    "    type_, stim_type = interest_list[ci],stim_type_list_summ[ci]\n",
    "    for sbj_idx in range(sbjs_num):\n",
    "        grp[sbj_idx] = cnn_rdm_cos2(cnnrdms, stim_type)\n",
    "    plot_corr_bar(grp,corr_type='Cos',std=True)"
   ]
  }
 ],
 "metadata": {
  "kernelspec": {
   "display_name": "Python 3",
   "language": "python",
   "name": "python3"
  },
  "language_info": {
   "codemirror_mode": {
    "name": "ipython",
    "version": 3
   },
   "file_extension": ".py",
   "mimetype": "text/x-python",
   "name": "python",
   "nbconvert_exporter": "python",
   "pygments_lexer": "ipython3",
   "version": "3.6.3"
  }
 },
 "nbformat": 4,
 "nbformat_minor": 4
}
