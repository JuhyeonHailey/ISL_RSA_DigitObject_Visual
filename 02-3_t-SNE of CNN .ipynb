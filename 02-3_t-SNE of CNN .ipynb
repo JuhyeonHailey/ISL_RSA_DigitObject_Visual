{
 "cells": [
  {
   "cell_type": "markdown",
   "metadata": {},
   "source": [
    "- To visualize the unit activations from CNN layers."
   ]
  },
  {
   "cell_type": "code",
   "execution_count": null,
   "metadata": {
    "collapsed": true
   },
   "outputs": [],
   "source": [
    "import os\n",
    "import numpy as np\n",
    "import tensorflow as tf\n",
    "from sklearn.manifold import TSNE\n",
    "\n",
    "import os.path as pth\n",
    "from PIL import Image\n",
    "from scipy import io\n",
    "import random\n",
    "\n",
    "import matplotlib.pyplot as plt\n",
    "%matplotlib inline"
   ]
  },
  {
   "cell_type": "code",
   "execution_count": null,
   "metadata": {
    "collapsed": true
   },
   "outputs": [],
   "source": [
    "os.environ[\"CUDA_DEVICE_ORDER\"]=\"PCI_BUS_ID\"\n",
    "os.environ[\"CUDA_VISIBLE_DEVICES\"] = \"4\" # \"0,1\""
   ]
  },
  {
   "cell_type": "code",
   "execution_count": null,
   "metadata": {
    "collapsed": true
   },
   "outputs": [],
   "source": [
    "base = '/users/jmy/data/image_sound'\n",
    "label_list = ['zero', 'one', 'two', 'three', 'four', 'five', 'six', 'seven',\n",
    "                'eight', 'nine', 'bed', 'bird', 'cat', 'dog', 'house', 'tree']\n",
    "imgsize = [224, 224]\n",
    "vgg_mean = np.array([123.68, 116.779, 103.939], dtype=np.float32).reshape((1,1,3))"
   ]
  },
  {
   "cell_type": "code",
   "execution_count": null,
   "metadata": {
    "collapsed": true
   },
   "outputs": [],
   "source": [
    "data_base_path = pth.join('/data', '01_experiment_data', 'image_sound')\n",
    "def get_stim_idx(sbj_idx):\n",
    "    subject_path = pth.join(data_base_path,'prep_new_template', 's'+str(sbj_idx).zfill(2))\n",
    "    # stim idx\n",
    "    mat_file = io.loadmat(pth.join(subject_path, 'stimuli', 'run_order.mat'))\n",
    "    run_list = sorted([name for name in mat_file.keys() if name.startswith('run')])\n",
    "    image_name_list = [name.strip() for run_name in run_list for name in mat_file[run_name] if name.startswith('i_')]\n",
    "    temp_list = [(name, i) for i, name in enumerate(image_name_list)]\n",
    "    result = [sorted([image_name for image_name in temp_list if image_name[0].startswith('i_'+label)], \n",
    "                        key=lambda name: int(name[0].lstrip('i_'+label).rstrip('.wav'))) for label in label_list]\n",
    "    return [name for class_list in result for name, _ in class_list]\n",
    "def get_imgs(sorted_name_list):\n",
    "    imgs = np.zeros((192,224,224,3))\n",
    "    for idx,img_name in enumerate(sorted_name_list):\n",
    "        img_name = img_name.split('_')[1]\n",
    "        try:\n",
    "            path = data_base_path +'/subjects/skku/s'+str(sbj_list[sbj_idx])+'/stimuli/img/'+img_name+'.png'\n",
    "            img = Image.open(path)\n",
    "        except:\n",
    "            path = data_base_path +'/subjects/skku/s'+str(sbj_list[sbj_idx])+'/stimuli/img/'+img_name+'.jpg'\n",
    "            img = Image.open(path)\n",
    "        img = img.resize((imgsize[0], imgsize[1]), Image.ANTIALIAS)\n",
    "        if len(img.size) != 3:\n",
    "            img = img.convert('RGB')\n",
    "        img = np.asarray(img).astype('float32')\n",
    "        img = img - vgg_mean\n",
    "        imgs[idx] = img[:,:,::-1]\n",
    "    return imgs\n",
    "def get_layer_rep(li,imgs,method=None):\n",
    "    n_imgs = imgs.shape[0]\n",
    "    op = graph.get_tensor_by_name(relus[li]+':0')\n",
    "    ft_sh = (n_imgs, op.shape[1], op.shape[2], op.shape[3])\n",
    "    rep_ = np.zeros((ft_sh),dtype='float32')\n",
    "    for i,img in enumerate(imgs):\n",
    "        img = np.expand_dims(img,0)\n",
    "        rp = sess.run(op, {x:img, is_training:False})\n",
    "        rep_[i] = rp\n",
    "    rep_ = rep_.reshape(n_imgs,-1)\n",
    "    if method == 'Rnd':\n",
    "        if li < 14:\n",
    "            random.seed(li)\n",
    "            rnd_idx = random.sample(list(np.arange(rep_.shape[1])),smp_num_list[li])\n",
    "            rep_ = rep_[:,rnd_idx]\n",
    "    return rep_"
   ]
  },
  {
   "cell_type": "code",
   "execution_count": null,
   "metadata": {
    "collapsed": true
   },
   "outputs": [],
   "source": [
    "smp_num_list = np.ones((15),dtype=int)*1000\n",
    "smp_num_list[-1] = 16"
   ]
  },
  {
   "cell_type": "code",
   "execution_count": null,
   "metadata": {},
   "outputs": [],
   "source": [
    "cdd_n, epoc = 5, 56\n",
    "cnn_v = ''\n",
    "sess = tf.Session()\n",
    "mdl_pth = '/users/jmy/data/nets/16_class/VGG_Base/cdd_{}{}/net-{}.ckpt'.format(str(cdd_n).zfill(2),cnn_v,str(epoc-1))\n",
    "saver = tf.train.import_meta_graph(mdl_pth+'.meta')\n",
    "saver.restore(sess, mdl_pth) #tf.train.latest_checkpoint('/users/jmy/data/nets/dualcnn/one/cdd_14'))\n",
    "graph = tf.get_default_graph()\n",
    "# placeholder load\n",
    "x = graph.get_tensor_by_name(\"Placeholder:0\") \n",
    "is_training = graph.get_tensor_by_name(\"Placeholder_2:0\")\n",
    "# get relu layer\n",
    "relus = [op.name for op in graph.get_operations() if op.type=='Relu']\n",
    "relus = relus[:14] + ['fc8/Conv2D']"
   ]
  },
  {
   "cell_type": "code",
   "execution_count": null,
   "metadata": {
    "collapsed": true
   },
   "outputs": [],
   "source": [
    "def scale_01(x):\n",
    "    rg = (np.max(x) - np.min(x))\n",
    "    st = x - np.min(x)\n",
    "    return st / rg"
   ]
  },
  {
   "cell_type": "code",
   "execution_count": null,
   "metadata": {
    "collapsed": true
   },
   "outputs": [],
   "source": [
    "sbjs_num = 15\n",
    "sbj_list = [25,26,29,30,31,32,33,34,37,38,39,40,41,43,44]\n",
    "sbjs_imgs = np.zeros((sbjs_num,192,224,224,3)) # less than 3GB\n",
    "for sbj_idx in range(sbjs_num):\n",
    "    sbjs_imgs[sbj_idx] = get_imgs(get_stim_idx(sbj_list[sbj_idx]))"
   ]
  },
  {
   "cell_type": "code",
   "execution_count": null,
   "metadata": {
    "collapsed": true
   },
   "outputs": [],
   "source": [
    "labels = []\n",
    "for sbj_idx in range(sbjs_num):\n",
    "    for ci in range(16):\n",
    "        for si in range(12):\n",
    "            labels.append(ci)"
   ]
  },
  {
   "cell_type": "code",
   "execution_count": null,
   "metadata": {
    "collapsed": true
   },
   "outputs": [],
   "source": [
    "color_list = ['#E07F81','#AC84C8','#97C9EC','#7CBC75','#EDEC2E','#E1A822','#DA592C','#8A319B','#3D59B1','#6294D3','#82BEA6','#4C888E','#418335','#97C225','#9A9A33','#724821']#'#ACA7AC','#5E5226','#632A2C']\n",
    "tlist = []\n",
    "for li in range(1,14):\n",
    "    tlist.append('Conv '+str(li))\n",
    "tlist += ['FC','Output']"
   ]
  },
  {
   "cell_type": "code",
   "execution_count": null,
   "metadata": {
    "scrolled": true
   },
   "outputs": [],
   "source": [
    "for li in range(15):\n",
    "    if li < 14:\n",
    "        nn = 1000\n",
    "    else:\n",
    "        nn = 16\n",
    "    features = np.zeros((15,192,nn))\n",
    "    for sbj_idx in range(sbjs_num):\n",
    "        imgs = sbjs_imgs[sbj_idx]\n",
    "        features[sbj_idx] = get_layer_rep(li,imgs,'Rnd') # (192x15,1000):imagesxFC nodes  \n",
    "    features = features.reshape(15*192,nn)    \n",
    "    tsne = TSNE(n_components=2,perplexity=30).fit_transform(features)\n",
    "\n",
    "    tx = tsne[:,0]\n",
    "    ty = tsne[:,1]\n",
    "\n",
    "    tx = scale_01(tx)\n",
    "    ty = scale_01(ty)\n",
    "    fig = plt.figure(figsize=(8,8))\n",
    "    plt.title(tlist[li],fontsize=15)\n",
    "\n",
    "    for ci in range(16):\n",
    "        indices = [i for i, l in enumerate(labels) if l == ci]\n",
    "        curr_tx = np.take(tx, indices)\n",
    "        curr_ty = np.take(ty, indices)\n",
    "\n",
    "        plt.scatter(curr_tx, curr_ty, c=color_list[ci], label=label_list[ci])\n",
    "    plt.axis('off')\n",
    "    plt.show()\n",
    "    plt.close()\n",
    "    \n",
    "fig = plt.figure(figsize=(10,7))\n",
    "\n",
    "for ci in range(16):\n",
    "    plt.scatter([1,2], [1,2], c=color_list[ci], label=label_list[ci])\n",
    "plt.legend(loc='best',fontsize=15)\n",
    "plt.show()"
   ]
  },
  {
   "cell_type": "code",
   "execution_count": null,
   "metadata": {},
   "outputs": [],
   "source": [
    "color_list = ['#E07F81','#AC84C8','#97C9EC','#7CBC75','#EDEC2E','#E1A822','#DA592C','#8A319B','#3D59B1','#6294D3','#82BEA6','#4C888E','#418335','#97C225','#9A9A33','#724821']#'#ACA7AC','#5E5226','#632A2C']\n",
    "imglen = 224*224*3\n",
    "features = np.zeros((15,192,imglen))\n",
    "for sbj_idx in range(sbjs_num):\n",
    "    features[sbj_idx] = sbjs_imgs[sbj_idx].reshape(192,imglen)\n",
    "features = features.reshape(15*192,imglen)    \n",
    "tsne = TSNE(n_components=2,perplexity=30).fit_transform(features)\n",
    "\n",
    "tx = tsne[:,0]\n",
    "ty = tsne[:,1]\n",
    "\n",
    "tx = scale_01(tx)\n",
    "ty = scale_01(ty)\n",
    "fig = plt.figure(figsize=(8,8))\n",
    "plt.title('input',fontsize=15)\n",
    "\n",
    "for ci in range(16):\n",
    "    indices = [i for i, l in enumerate(labels) if l == ci]\n",
    "    curr_tx = np.take(tx, indices)\n",
    "    curr_ty = np.take(ty, indices)\n",
    "\n",
    "    plt.scatter(curr_tx, curr_ty, c=color_list[ci], label=label_list[ci])\n",
    "plt.axis('off')\n",
    "plt.show()\n",
    "plt.close()"
   ]
  }
 ],
 "metadata": {
  "kernelspec": {
   "display_name": "Python 3",
   "language": "python",
   "name": "python3"
  },
  "language_info": {
   "codemirror_mode": {
    "name": "ipython",
    "version": 3
   },
   "file_extension": ".py",
   "mimetype": "text/x-python",
   "name": "python",
   "nbconvert_exporter": "python",
   "pygments_lexer": "ipython3",
   "version": "3.6.3"
  }
 },
 "nbformat": 4,
 "nbformat_minor": 4
}
