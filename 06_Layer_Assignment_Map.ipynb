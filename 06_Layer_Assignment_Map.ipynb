{
 "cells": [
  {
   "cell_type": "code",
   "execution_count": null,
   "metadata": {
    "collapsed": true
   },
   "outputs": [],
   "source": [
    "import os\n",
    "import nibabel as nib\n",
    "import numpy as np\n",
    "import pandas as pd\n",
    "import cortex\n",
    "np.random.seed(1234)\n",
    "import seaborn as sns\n",
    "import matplotlib.pyplot as plt\n",
    "%matplotlib inline\n",
    "plt.rcParams.update({'font.size': 13})\n",
    "\n",
    "subject = '2009c'\n",
    "xfm = 'fullhead_v64'"
   ]
  },
  {
   "cell_type": "code",
   "execution_count": null,
   "metadata": {
    "collapsed": true
   },
   "outputs": [],
   "source": [
    "base = '/users/jmy/data/image_sound'\n",
    "sbjs_num = 15\n",
    "sbj_list = [25,26,29,30,31,32,33,34,37,38,39,40,41,43,44]\n",
    "type_, stim_type = 'Vs', 'etr'\n",
    "depth = 15\n",
    "affine = np.array([[   3. ,   -0. ,   -0. ,  -94.5],\n",
    "       [  -0. ,    3. ,   -0. , -130.5],\n",
    "       [   0. ,    0. ,    3. ,  -76.5],\n",
    "       [   0. ,    0. ,    0. ,    1. ]])"
   ]
  },
  {
   "cell_type": "code",
   "execution_count": null,
   "metadata": {
    "collapsed": true
   },
   "outputs": [],
   "source": [
    "def save_nifti(vol, savepath):\n",
    "    img1 = nib.Nifti1Image(vol,affine=affine)\n",
    "    nib.save(img1,savepath)"
   ]
  },
  {
   "cell_type": "code",
   "execution_count": null,
   "metadata": {
    "collapsed": true
   },
   "outputs": [],
   "source": [
    "# corrected values using random permutation\n",
    "tpthr = 0.05\n",
    "sv_key = 'PCA3_90'\n",
    "savebase = base+'/RSA_Wholebrain_CNN/'+sv_key\n",
    "# Grp\n",
    "ci = 3\n",
    "type_, stim_type = interest_list[ci], stim_type_list[ci]\n",
    "tmpvols = np.zeros((depth,64,76,64))\n",
    "ptmpvols = np.zeros((depth,64,76,64))\n",
    "for li in range(depth):\n",
    "    loadpath = savebase+'/Group/corr5e-02_tmap_'+type_+'_'+stim_type+'_L'+str(li+1)+'.nii'\n",
    "    tmpvols[li] = nib.load(loadpath).get_fdata()\n",
    "# exclude all neg\n",
    "tmpsum = np.sum((tmpvols>0),axis=0)\n",
    "tmpsum2 = np.sum((tmpvols<0),axis=0)\n",
    "msk_idx = np.where((tmpsum > 0)&(tmpsum2!=15))\n",
    "max_info = np.argmax(tmpvols.transpose(1,2,3,0)[msk_idx],axis=1) # vec,depth\n",
    "max_info += 1\n",
    "# wholebrain\n",
    "assignvol = np.zeros((64,76,64))\n",
    "assignvol[msk_idx] = max_info\n",
    "savepath = savebase+'/Group/corr5e-02_assgn_'+type_+'_'+stim_type+'.nii'\n",
    "save_nifti(assignvol,savepath)"
   ]
  },
  {
   "cell_type": "code",
   "execution_count": null,
   "metadata": {
    "collapsed": true
   },
   "outputs": [],
   "source": [
    "savebase = base+'/For_thesis/Corrected'\n",
    "os.chdir(savebase)"
   ]
  },
  {
   "cell_type": "code",
   "execution_count": null,
   "metadata": {
    "collapsed": true
   },
   "outputs": [],
   "source": [
    "dir_info = ['PCA3_90','PCA1_90']\n",
    "di = 0"
   ]
  },
  {
   "cell_type": "code",
   "execution_count": null,
   "metadata": {
    "collapsed": true
   },
   "outputs": [],
   "source": [
    "# Make individual layer cluster nifti file\n",
    "path = base+'/RSA_Wholebrain_CNN/PCA3_90/Group/corr5e-02_assgn_'+type_+'_'+stim_type+'.nii'\n",
    "tmpvol = nib.load(path).get_fdata()\n",
    "for li in range(15):\n",
    "    tmpvol2 = np.zeros((64,76,64))\n",
    "    tmpvol2[np.where(tmpvol == li+1)] = 1\n",
    "    img1 = nib.Nifti1Image(tmpvol2,affine)\n",
    "    nib.save(img1,'/users/jmy/data/image_sound/For_thesis/Corrected/'+str(di).zfill(2)+'_'+type_+str(li+1)+'.nii')"
   ]
  },
  {
   "cell_type": "code",
   "execution_count": null,
   "metadata": {
    "collapsed": true
   },
   "outputs": [],
   "source": [
    "# 3dclusterize size 20\n",
    "for li in range(depth):\n",
    "    cmd = '3dClusterize -nosum -1Dformat -inset {}_{}{}.nii -idat 0 -ithr 0 -NN 2 -clust_nvox 20 -bisided -0.0001 0.0001 -pref_map {}_{}{}_clst.nii -overwrite'.format(str(di).zfill(2),type_,li+1,str(di).zfill(2),type_,li+1)\n",
    "    os.system(cmd)"
   ]
  },
  {
   "cell_type": "markdown",
   "metadata": {},
   "source": [
    "### Cluster map to find the location"
   ]
  },
  {
   "cell_type": "code",
   "execution_count": null,
   "metadata": {
    "collapsed": true
   },
   "outputs": [],
   "source": [
    "vol2sv = np.zeros((64,76,64))#clst_in_one_10.nii\n",
    "for li in range(depth):\n",
    "    filename = '{}_{}{}_clst.nii'.format(str(di).zfill(2),type_,li+1)\n",
    "    if os.path.exists(filename):\n",
    "        tmp = nib.load(filename).get_fdata()\n",
    "        vol2sv[np.where(tmp>0)] = li+1\n",
    "vol2sv[(vol2sv==0)] = np.nan\n",
    "img1 = nib.Nifti1Image(vol2sv,affine)\n",
    "savepath = str(di).zfill(2)+'_clst_in_one_vthr15.nii'\n",
    "nib.save(img1,savepath)"
   ]
  },
  {
   "cell_type": "code",
   "execution_count": null,
   "metadata": {
    "collapsed": true
   },
   "outputs": [],
   "source": [
    "# corrected t-score load\n",
    "tmaps = np.zeros((15,64,76,64))\n",
    "for li2 in range(depth):\n",
    "    loadpath = base+'/RSA_Wholebrain_CNN/PCA3_90/Group/corr5e-02_tmap_'+type_+'_'+stim_type+'_L'+str(li2+1)+'.nii'\n",
    "    tmaps[li2] = nib.load(loadpath).get_fdata()"
   ]
  },
  {
   "cell_type": "code",
   "execution_count": null,
   "metadata": {
    "collapsed": true
   },
   "outputs": [],
   "source": [
    "# uncorrected\n",
    "tmaps_uncorr = np.zeros((15,64,76,64))\n",
    "for li2 in range(depth):\n",
    "    loadpath = base+'/RSA_Wholebrain_CNN/PCA3_90/Group/tmap_'+type_+'_'+stim_type+'_L'+str(li2+1)+'.nii'\n",
    "    tmaps_uncorr[li2] = nib.load(loadpath).get_fdata()"
   ]
  },
  {
   "cell_type": "markdown",
   "metadata": {},
   "source": [
    "# Plot one by one"
   ]
  },
  {
   "cell_type": "code",
   "execution_count": null,
   "metadata": {
    "collapsed": true
   },
   "outputs": [],
   "source": [
    "from pathlib import Path\n",
    "import matplotlib as mpl\n",
    "fpath = Path(mpl.get_data_path(), \"/users/jmy/data/image_sound/arial.ttf\")\n",
    "sns.set(style='dark',font_scale=1.6)\n",
    "col_list = sns.color_palette('Spectral_r',15)\n",
    "col_arr = np.array(col_list)\n",
    "xpos = np.arange(15)\n",
    "xlabels=['1','2','3','4','5','6','7','8','9','10','11','12','13','Fc','Out\\nput']"
   ]
  },
  {
   "cell_type": "code",
   "execution_count": null,
   "metadata": {
    "collapsed": true
   },
   "outputs": [],
   "source": [
    "# w.o. title\n",
    "def make_bar_graph(mli, clstn, ylim=None):\n",
    "    clst_ = nib.load('{}_{}{}_clst.nii'.format(str(di).zfill(2),type_,mli)).get_fdata()\n",
    "    clst_idx = np.where(clst_== clstn)\n",
    "    lay_mean = np.zeros((15))\n",
    "    lay_ste = np.zeros((15))\n",
    "    sig_info = np.ones((15))\n",
    "    for li2 in range(depth):\n",
    "        tmap = tmaps[li2] \n",
    "        vec = tmap[clst_idx]\n",
    "        if np.sum(vec) == 0:\n",
    "            vec = tmaps_uncorr[li2][clst_idx]\n",
    "            sig_info[li2] = 0\n",
    "        lay_mean[li2] = vec.mean()\n",
    "        lay_ste[li2] = vec.std()/vec.shape[0]**0.5\n",
    "    cor_idx = np.where(sig_info==1)\n",
    "    tran_idx = np.where(sig_info!=1)\n",
    "    fig,axes = plt.subplots(1,1,figsize=(8,5),facecolor='white',constrained_layout=True)\n",
    "    axes.bar(xpos[cor_idx],lay_mean[cor_idx],color=col_arr[cor_idx],width=0.9,linewidth=1.5,\n",
    "            yerr=lay_ste[cor_idx],error_kw=dict(lw=1.2),ecolor='k',capsize=6)\n",
    "    axes.bar(xpos[tran_idx],lay_mean[tran_idx],color='None',edgecolor='grey',width=0.9,linewidth=1.0,\n",
    "            yerr=lay_ste[tran_idx],error_kw=dict(lw=1.2),ecolor='k',capsize=6)\n",
    "    if ylim != None:\n",
    "        axes.set_yticks(np.arange(ylim))\n",
    "    axes.set_xticks(xpos)\n",
    "    axes.set_xticklabels(xlabels)\n",
    "    axes.set(xlabel='CNN layer', ylabel=\"t-score\")\n",
    "    filename = 'Layer'+str(mli)+'_clst'+str(clstn)+'_mod_wott.jpg'\n",
    "    if ylim != None:\n",
    "        filename = 'ylim'+str(ylim)+'_'+filename\n",
    "    fig.savefig(base+'/For_thesis/Corrected/Rslt/New_Labels/'+filename)\n",
    "    plt.close()"
   ]
  },
  {
   "cell_type": "code",
   "execution_count": null,
   "metadata": {
    "collapsed": true
   },
   "outputs": [],
   "source": [
    "for mli in range(1,16):\n",
    "    clst_ = nib.load('{}_{}{}_clst.nii'.format(str(di).zfill(2),type_,mli)).get_fdata()\n",
    "    totn = int(clst_.max())\n",
    "    for clstn in range(1,totn+1):\n",
    "        make_bar_graph(mli,clstn,ylim=6.0)"
   ]
  },
  {
   "cell_type": "markdown",
   "metadata": {},
   "source": [
    "# Average"
   ]
  },
  {
   "cell_type": "code",
   "execution_count": null,
   "metadata": {
    "collapsed": true
   },
   "outputs": [],
   "source": [
    "def make_bar_graph_avg(mli, ylim=None):\n",
    "    clst_ = nib.load('{}_{}{}_clst.nii'.format(str(di).zfill(2),type_,mli)).get_fdata()\n",
    "    totn = int(clst_.max())\n",
    "    arr2avg = np.zeros((totn,15))\n",
    "    sig_info4avg = np.ones((totn,15))\n",
    "    roiname = ''\n",
    "    for clstn in range(1,totn+1):\n",
    "        clst_idx = np.where(clst_== clstn)\n",
    "        for li2 in range(depth):\n",
    "            tmap = tmaps[li2] \n",
    "            vec = tmap[clst_idx]\n",
    "            if np.sum(vec) == 0:\n",
    "                vec = tmaps_uncorr[li2][clst_idx]\n",
    "                sig_info4avg[clstn-1,li2] = 0\n",
    "            arr2avg[clstn-1,li2] = vec.mean()\n",
    "    lay_mean = np.zeros((15))\n",
    "    lay_ste = np.zeros((15))\n",
    "    sig_info = np.ones((15))\n",
    "    for li2 in range(depth):\n",
    "        tmparr = arr2avg[:,li2]\n",
    "        cor_idx = np.where(sig_info4avg[:,li2]==1) # only significant cluster\n",
    "        tran_idx = np.where(sig_info4avg[:,li2]!=1)\n",
    "        vectmp = tmparr[cor_idx]\n",
    "        if vectmp.shape[0] == 0:\n",
    "            vectmp = tmparr[tran_idx]\n",
    "            sig_info[li2] = 0\n",
    "        lay_mean[li2] = np.mean(vectmp)\n",
    "        lay_ste[li2] = np.std(vectmp)/vectmp.shape[0]**0.5\n",
    "    cor_idx = np.where(sig_info==1)\n",
    "    tran_idx = np.where(sig_info!=1)    \n",
    "    fig, axes = plt.subplots(1,1,figsize=(8,5),facecolor='white',constrained_layout=True)\n",
    "    if totn == 1:\n",
    "        axes.bar(xpos[cor_idx],lay_mean[cor_idx],color=col_arr[cor_idx],width=0.9,linewidth=1.5)\n",
    "        axes.bar(xpos[tran_idx],lay_mean[tran_idx],color='None',edgecolor='grey',width=0.9)\n",
    "    else:\n",
    "        axes.bar(xpos[cor_idx],lay_mean[cor_idx],color=col_arr[cor_idx],width=0.9,linewidth=1.5,\n",
    "                            yerr=lay_ste[cor_idx],error_kw=dict(lw=1.2),ecolor='k',capsize=6)\n",
    "        axes.bar(xpos[tran_idx],lay_mean[tran_idx],color='None',edgecolor='grey',width=0.9,linewidth=1.0,\n",
    "                    yerr=lay_ste[tran_idx],error_kw=dict(lw=1.2),ecolor='k',capsize=6)\n",
    "    if ylim != None:\n",
    "        axes.set_yticks(np.arange(ylim))\n",
    "    axes.set_xticks(xpos)\n",
    "    axes.set_xticklabels(xlabels, fontsize=20)\n",
    "    axes.set_xlabel('CNN Layer', font=fpath, fontsize=25)\n",
    "    axes.set_ylabel('t-score', font=fpath, fontsize=25)\n",
    "    filename = 'Avgd_Layer'+str(mli)+'.jpg'\n",
    "    if ylim != None:\n",
    "        filename = 'fsize_ylim'+str(ylim)+'_'+filename\n",
    "    fig.savefig(base+'/For_thesis/Corrected/Rslt/New_Labels/'+filename)\n",
    "    plt.close()"
   ]
  },
  {
   "cell_type": "code",
   "execution_count": null,
   "metadata": {
    "collapsed": true
   },
   "outputs": [],
   "source": [
    "for mli in range(1,16):\n",
    "    if mli <14:\n",
    "        ylim = 6.0\n",
    "    else:\n",
    "        ylim = 4.0\n",
    "    make_bar_graph_avg(mli, ylim=ylim)"
   ]
  },
  {
   "cell_type": "markdown",
   "metadata": {},
   "source": [
    "# Figure - initial, middle, later, FC-Out"
   ]
  },
  {
   "cell_type": "code",
   "execution_count": null,
   "metadata": {
    "collapsed": true
   },
   "outputs": [],
   "source": [
    "num2ass = [1,3,4,5,6,7,8,9,10,11,12,13,14,15,16]"
   ]
  },
  {
   "cell_type": "code",
   "execution_count": null,
   "metadata": {
    "collapsed": true
   },
   "outputs": [],
   "source": [
    "vols = {}\n",
    "vol2sv = np.zeros((64,76,64))\n",
    "for li in [0,1]:#,2,3]:\n",
    "    filename = '{}_{}{}_clst.nii'.format(str(di).zfill(2),type_,li+1)\n",
    "    tmp = nib.load(filename).get_fdata()\n",
    "    vol2sv[np.where(tmp>0)] = num2ass[li]#li+1\n",
    "vol2sv[(vol2sv==0)] = np.nan\n",
    "img1 = nib.Nifti1Image(vol2sv,affine)\n",
    "savepath = str(li)+'.nii'\n",
    "nib.save(img1,savepath)\n",
    "vols['Initial'] = cortex.Volume(savepath, subject, xfm, vmin=1,vmax=16,cmap='jet')"
   ]
  },
  {
   "cell_type": "code",
   "execution_count": null,
   "metadata": {
    "collapsed": true
   },
   "outputs": [],
   "source": [
    "vol2sv = np.zeros((64,76,64))\n",
    "for li in np.arange(2,10):\n",
    "    filename = '{}_{}{}_clst.nii'.format(str(di).zfill(2),type_,li+1)\n",
    "    tmp = nib.load(filename).get_fdata()\n",
    "    vol2sv[np.where(tmp>0)] = num2ass[li]#li+1\n",
    "vol2sv[(vol2sv==0)] = np.nan\n",
    "img1 = nib.Nifti1Image(vol2sv,affine)\n",
    "savepath = str(li)+'.nii'\n",
    "nib.save(img1,savepath)\n",
    "vols['Middle'] = cortex.Volume(savepath, subject, xfm, vmin=1,vmax=16,cmap='jet')"
   ]
  },
  {
   "cell_type": "code",
   "execution_count": null,
   "metadata": {
    "collapsed": true
   },
   "outputs": [],
   "source": [
    "vol2sv = np.zeros((64,76,64))\n",
    "for li in np.arange(10,13):\n",
    "    filename = '{}_{}{}_clst.nii'.format(str(di).zfill(2),type_,li+1)\n",
    "    tmp = nib.load(filename).get_fdata()\n",
    "    vol2sv[np.where(tmp>0)] = num2ass[li]#li+1\n",
    "vol2sv[(vol2sv==0)] = np.nan\n",
    "img1 = nib.Nifti1Image(vol2sv,affine)\n",
    "savepath = str(li)+'.nii'\n",
    "nib.save(img1,savepath)\n",
    "vols['Later'] = cortex.Volume(savepath, subject, xfm, vmin=1,vmax=16,cmap='jet')"
   ]
  },
  {
   "cell_type": "code",
   "execution_count": null,
   "metadata": {
    "collapsed": true
   },
   "outputs": [],
   "source": [
    "vol2sv = np.zeros((64,76,64))\n",
    "for li in np.arange(13,15):\n",
    "    filename = '{}_{}{}_clst.nii'.format(str(di).zfill(2),type_,li+1)\n",
    "    tmp = nib.load(filename).get_fdata()\n",
    "    vol2sv[np.where(tmp>0)] = num2ass[li]#li+1\n",
    "vol2sv[(vol2sv==0)] = np.nan\n",
    "img1 = nib.Nifti1Image(vol2sv,affine)\n",
    "savepath = str(li)+'.nii'\n",
    "nib.save(img1,savepath)\n",
    "vols['Cate'] = cortex.Volume(savepath, subject, xfm, vmin=1,vmax=16,cmap='jet')"
   ]
  },
  {
   "cell_type": "code",
   "execution_count": null,
   "metadata": {
    "collapsed": true
   },
   "outputs": [],
   "source": [
    "#Assigned\n",
    "savepath = str(di).zfill(2)+'_clst_in_one_vthr15.nii'\n",
    "vol2sv = nib.load(savepath).get_fdata()\n",
    "for li in np.arange(2,16)[::-1]:\n",
    "    vol2sv[(vol2sv==li)] = li+1\n",
    "img1 = nib.Nifti1Image(vol2sv,affine)\n",
    "savepath = 'assgn.nii'\n",
    "nib.save(img1,savepath)\n",
    "vols['Assgn'] = cortex.Volume(savepath, subject, xfm, vmin=1, vmax=16,cmap='jet')"
   ]
  },
  {
   "cell_type": "code",
   "execution_count": null,
   "metadata": {
    "collapsed": true
   },
   "outputs": [],
   "source": [
    "cortex.webgl.show(vols)#,overlay_file='/users/jmy/data/pycortex_overlays/overlays_ICA_final_5.svg',recache=True)"
   ]
  }
 ],
 "metadata": {
  "kernelspec": {
   "display_name": "Python 3",
   "language": "python",
   "name": "python3"
  },
  "language_info": {
   "codemirror_mode": {
    "name": "ipython",
    "version": 3
   },
   "file_extension": ".py",
   "mimetype": "text/x-python",
   "name": "python",
   "nbconvert_exporter": "python",
   "pygments_lexer": "ipython3",
   "version": "3.6.3"
  }
 },
 "nbformat": 4,
 "nbformat_minor": 2
}
