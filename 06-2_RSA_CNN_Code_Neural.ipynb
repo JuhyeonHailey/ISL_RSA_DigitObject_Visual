{
 "cells": [
  {
   "cell_type": "code",
   "execution_count": null,
   "metadata": {
    "collapsed": true
   },
   "outputs": [],
   "source": [
    "import numpy as np\n",
    "import nibabel as nib\n",
    "from scipy import stats\n",
    "import matplotlib.pyplot as plt\n",
    "import seaborn as sns\n",
    "%matplotlib inline\n",
    "plt.rcParams.update({'font.size': 13})"
   ]
  },
  {
   "cell_type": "code",
   "execution_count": null,
   "metadata": {
    "collapsed": true
   },
   "outputs": [],
   "source": [
    "# Load CNN RDMs \n",
    "depth = 15\n",
    "cnnrdms = np.load('Sample_CNN_RDM.npz')['cnnrdms'] # This sample data was saved from '04_RSA_From_CNN_Perspective' "
   ]
  },
  {
   "cell_type": "code",
   "execution_count": null,
   "metadata": {
    "collapsed": true
   },
   "outputs": [],
   "source": [
    "# Load sample ROI map saved from '05_RSA_From_Human_Perspective' \n",
    "num_cds = 5\n",
    "cd_name_list = ['Digit', 'Object', 'Versus', 'Magnitude', 'Animacy']    \n",
    "roi_masks = np.zeros((num_cds,64,76,64))\n",
    "for cdi in range(num_cds):\n",
    "    tmp = np.nan_to_num(nib.load(cd_name_list[cdi]+'.nii').get_fdata())\n",
    "    roi_masks[cdi] = (tmp!=0)"
   ]
  },
  {
   "cell_type": "code",
   "execution_count": null,
   "metadata": {
    "collapsed": true
   },
   "outputs": [],
   "source": [
    "# Preparing plot\n",
    "sns.set(style='white',font_scale=1.3)\n",
    "col_arr = np.array(sns.color_palette('Spectral_r',depth)) # Color map\n",
    "xticks = np.arange(depth)\n",
    "xlabels=['1','2','3','4','5','6','7','8','9','10','11','12','13','Fc','Out\\nput']"
   ]
  },
  {
   "cell_type": "code",
   "execution_count": null,
   "metadata": {
    "collapsed": true
   },
   "outputs": [],
   "source": [
    "# Define functions\n",
    "def reorder_ani(rdm_org):\n",
    "    rdm_reord = np.zeros((6,6))\n",
    "    rdm_reord[:5,:5] = rdm_org[11:,11:] \n",
    "    rdm_reord[5,5] = rdm_org[10,10]\n",
    "    rdm_reord[:5,5] = rdm_org[11:,10]\n",
    "    rdm_reord[5,0:5] = rdm_org[10,11:]\n",
    "    return rdm_reord\n",
    "    \n",
    "def rsa(stim_type,cnnrdm):\n",
    "    if stim_type == 'Digit':\n",
    "        iu = np.triu_indices(10,1)\n",
    "        rho, p = stats.spearmanr(roirdm[:10,:10][iu],cnnrdm[:10,:10][iu])\n",
    "    elif stim_type == 'Object':\n",
    "        iu = np.triu_indices(6,1)\n",
    "        rho, p = stats.spearmanr(roirdm[10:,10:][iu],cnnrdm[10:,10:][iu])\n",
    "    elif stim_type == 'Versus':\n",
    "        rho, p = stats.spearmanr(roirdm[:10,10:].flatten(),cnnrdm[:10,10:].flatten())\n",
    "    elif stim_type == 'Magnitude': \n",
    "        rho, p = stats.spearmanr(roirdm[7:10,1:4].flatten(),cnnrdm[7:10,1:4].flatten())\n",
    "    else: #stim_type == 'Animacy': \n",
    "        rho, p = stats.spearmanr(reorder_ani(roirdm)[3:,:3].flatten(),reorder_ani(cnnrdm)[3:,:3].flatten())\n",
    "    return rho, p "
   ]
  },
  {
   "cell_type": "code",
   "execution_count": null,
   "metadata": {
    "collapsed": true
   },
   "outputs": [],
   "source": [
    "# Load sample neural RDM made by '03_MVPA_Neural_RDMs.ipynb'\n",
    "l = np.load('Sample_Neural_RDM.npz',allow_pickle=True)\n",
    "brain_rdm = l['rdm']\n",
    "brain_inform_list = l['info_list']\n",
    "\n",
    "# Number of searchlight voxels\n",
    "nvv = brain_rdm.shape[0]\n",
    "\n",
    "# RSA\n",
    "rsa_rslt = np.zeros((num_cds,depth,64,76,64))\n",
    "for cdi in range(num_cds):\n",
    "    stim_type = cd_name_list[cdi]\n",
    "    roi_mask = roi_masks[cdi]\n",
    "    for vi in range(nvv):\n",
    "        idx = brain_inform_list[vi][1]\n",
    "        # If the index is not at the ROI, continue.\n",
    "        if roi_mask[idx] != 1:\n",
    "            continue\n",
    "        roirdm = brain_rdm[vi]\n",
    "        for li in range(depth):\n",
    "            rsa_rslt[cdi,li][idx], _ = rsa(stim_type,cnnrdms[li])"
   ]
  },
  {
   "cell_type": "code",
   "execution_count": null,
   "metadata": {
    "collapsed": true
   },
   "outputs": [],
   "source": [
    "# Bar graph : Average within ROI\n",
    "# In this tutorial, you would use rho values rather than t-statistics from group data.\n",
    "def save_bar_graph(cdi):\n",
    "    # Here, assumed that there is one ROI\n",
    "    roi_mask = roi_masks[cdi]\n",
    "    fig, axes = plt.subplots(1,1,facecolor='white',constrained_layout=True)\n",
    "    roi_idx = np.where(roi_mask== 1)\n",
    "    vxlnum = roi_idx[0].shape[0]\n",
    "    mean_ = np.zeros((depth))\n",
    "    ste_ = np.zeros((depth))\n",
    "    pos_info = np.zeros((depth))\n",
    "    for li in range(depth):\n",
    "        tmp = rsa_rslt[cdi,li].copy()\n",
    "        vec = tmp[roi_idx]\n",
    "        vec = vec[(vec>0)] # Use only positive values\n",
    "        if np.sum(vec) > 0:\n",
    "            pos_info[li] = 1\n",
    "        mean_[li] = vec.mean()\n",
    "        ste_[li] = vec.std()/vec.shape[0]\n",
    "    pos_idx = np.where(pos_info==1)\n",
    "    axes.set_title(cd_name_list[cdi]+\"'s ROI\")\n",
    "    axes.bar(xticks[pos_idx],mean_[pos_idx],color=col_arr[pos_idx],width=0.9,linewidth=1.5,\n",
    "                    yerr=ste_[pos_idx],error_kw=dict(lw=1.2),ecolor='k')\n",
    "    axes.set_xticks(xticks)\n",
    "    axes.set_xticklabels(xlabels)\n",
    "    axes.set_xlabel('CNN layer')\n",
    "    axes.set_ylabel('t-score')\n",
    "    plt.show()\n",
    "    plt.close()"
   ]
  },
  {
   "cell_type": "code",
   "execution_count": null,
   "metadata": {
    "collapsed": true
   },
   "outputs": [],
   "source": [
    "# Plot\n",
    "for cdi in range(num_cds):\n",
    "    save_bar_graph(cdi)"
   ]
  }
 ],
 "metadata": {
  "kernelspec": {
   "display_name": "Python 3",
   "language": "python",
   "name": "python3"
  },
  "language_info": {
   "codemirror_mode": {
    "name": "ipython",
    "version": 3
   },
   "file_extension": ".py",
   "mimetype": "text/x-python",
   "name": "python",
   "nbconvert_exporter": "python",
   "pygments_lexer": "ipython3",
   "version": "3.6.3"
  }
 },
 "nbformat": 4,
 "nbformat_minor": 2
}
