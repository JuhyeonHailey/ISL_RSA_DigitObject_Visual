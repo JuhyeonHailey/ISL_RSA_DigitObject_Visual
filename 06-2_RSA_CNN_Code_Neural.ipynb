{
 "cells": [
  {
   "cell_type": "code",
   "execution_count": null,
   "metadata": {
    "collapsed": true
   },
   "outputs": [],
   "source": [
    "import os\n",
    "import math\n",
    "import os.path as pth\n",
    "from scipy import io\n",
    "import numpy as np\n",
    "import nibabel as nib\n",
    "from scipy import stats\n",
    "import matplotlib.pyplot as plt\n",
    "import seaborn as sns\n",
    "%matplotlib inline\n",
    "plt.rcParams.update({'font.size': 13})"
   ]
  },
  {
   "cell_type": "code",
   "execution_count": null,
   "metadata": {
    "collapsed": true
   },
   "outputs": [],
   "source": [
    "base = '/users/jmy/data/image_sound'\n",
    "mod = 'i'\n",
    "data_base_path = pth.join('/data', '01_experiment_data', 'image_sound', 'prep_new_template')\n",
    "label_list = ['zero', 'one', 'two', 'three', 'four', 'five', 'six', 'seven',\n",
    "                'eight', 'nine', 'bed', 'bird', 'cat', 'dog', 'house', 'tree']\n",
    "\n",
    "sbjs_num = 15\n",
    "sbj_list = [25,26,29,30,31,32,33,34,37,38,39,40,41,43,44]\n",
    "interest_list = ['Digit','Object','Vs','Magnitude','Animacy']"
   ]
  },
  {
   "cell_type": "code",
   "execution_count": null,
   "metadata": {
    "collapsed": true
   },
   "outputs": [],
   "source": [
    "# Preparing plot\n",
    "sns.set(style='white',font_scale=1.3)\n",
    "col_list = sns.color_palette('Spectral_r',15)\n",
    "col_arr = np.array(col_list)\n",
    "xticks = np.arange(15)\n",
    "xlabels=['1','2','3','4','5','6','7','8','9','10','11','12','13','Fc','Out\\nput']"
   ]
  },
  {
   "cell_type": "code",
   "execution_count": null,
   "metadata": {
    "collapsed": true
   },
   "outputs": [],
   "source": [
    "# cnn rdm load\n",
    "cdd_n, epoc = 5, 56\n",
    "depth = 15\n",
    "cnnrdms = np.zeros((sbjs_num,depth,16,16))\n",
    "for li in range(depth):\n",
    "    for sbj_idx in range(sbjs_num):\n",
    "        filename = '_ind192to16_90_P{}_cdd0{}_L{}.npz'.format(str(sbj_list[sbj_idx]),str(cdd_n),str(li+1).zfill(2))\n",
    "        savepath = base + '/RDMs/CNN/PCA/16x16/' + filename\n",
    "        cnnrdms[sbj_idx,li] = np.load(savepath)['rdm']"
   ]
  },
  {
   "cell_type": "code",
   "execution_count": null,
   "metadata": {
    "collapsed": true
   },
   "outputs": [],
   "source": [
    "# roi nii load\n",
    "tot_roin = 51\n",
    "roi_masks = np.zeros((tot_roin,64,76,64))\n",
    "cnt = 0\n",
    "stim_type_list_roi = []\n",
    "for ti, type_ in enumerate(interest_list):\n",
    "    fchar = type_[0].lower()\n",
    "    path = base+'/01_STEP/16x16/offd/5e-02_'+fchar+'l2_20_r3_mask+tlrc.HEAD'\n",
    "    tmp_vol = nib.load(path).get_fdata().squeeze()\n",
    "    tmpn = int(tmp_vol.max())\n",
    "    for roin in range(tmpn):\n",
    "        roi_masks[cnt][(tmp_vol==roin+1)] = 1\n",
    "        stim_type_list_roi.append(stim_type_list[ti])\n",
    "        cnt += 1"
   ]
  },
  {
   "cell_type": "code",
   "execution_count": null,
   "metadata": {
    "collapsed": true
   },
   "outputs": [],
   "source": [
    "# Calculate rhos\n",
    "cd_n = len(interest_list)\n",
    "stim_type_list = ['dpt','opt','offd','mag','opt']\n",
    "\n",
    "def reorder_ani(rdm_org):\n",
    "    rdm_reord = np.zeros((6,6))\n",
    "    rdm_reord[:5,:5] = rdm_org[11:,11:] # 축 1이 아래 방향으로\n",
    "    rdm_reord[5,5] = rdm_org[10,10]\n",
    "    rdm_reord[:5,5] = rdm_org[11:,10]\n",
    "    rdm_reord[5,0:5] = rdm_org[10,11:]\n",
    "    return rdm_reord\n",
    "    \n",
    "def rsa(stim_type,cnnrdm):\n",
    "    if stim_type == 'dpt':\n",
    "        iu = np.triu_indices(10,1)\n",
    "        rho, p = stats.spearmanr(roirdm[:10,:10][iu],cnnrdm[:10,:10][iu])\n",
    "    elif stim_type == 'opt':\n",
    "        iu = np.triu_indices(6,1)\n",
    "        rho, p = stats.spearmanr(roirdm[10:,10:][iu],cnnrdm[10:,10:][iu])\n",
    "    elif stim_type == 'offd':\n",
    "        rho, p = stats.spearmanr(roirdm[:10,10:].flatten(),cnnrdm[:10,10:].flatten())\n",
    "    elif stim_type == 'mag': \n",
    "        rho, p = stats.spearmanr(roirdm[7:10,1:4].flatten(),cnnrdm[7:10,1:4].flatten())\n",
    "    else: #stim_type == 'ani': \n",
    "        rho, p = stats.spearmanr(reorder_ani(roirdm)[3:,:3].flatten(),reorder_ani(cnnrdm)[3:,:3].flatten())\n",
    "    return rho, p \n",
    "\n",
    "def save_nifti(vol, savepath):\n",
    "    img1 = nib.Nifti1Image(vol,affine=affine)\n",
    "    nib.save(img1,savepath)\n",
    "\n",
    "sv_key= 'PCA3_90'\n",
    "savebase = base+'/RSA_Wholebrain_CNN/'+sv_key\n",
    "# os.makedirs(savebase)\n",
    "\n",
    "import time\n",
    "for sbj_idx in range(15): \n",
    "    start_time = time.time()\n",
    "    # load brain rdm\n",
    "    load_path = base+'/RDMs/Neural/16x16/P'+str(sbj_list[sbj_idx])+'_i.npz' # r3\n",
    "    l = np.load(load_path,allow_pickle=True)\n",
    "    brain_rdm = l['rdm']\n",
    "    brain_inform_list = l['info_list']\n",
    "    nvv = brain_rdm.shape[0]\n",
    "    for ti, type_ in enumerate(interest_list):\n",
    "        if type_ in ['Animacy','Magnitude']:\n",
    "            sv_key = type_+'_3x3'\n",
    "        else:    \n",
    "            sv_key = type_+'_'+stim_type\n",
    "        stim_type = stim_type_list[ti]\n",
    "        for li in range(15):\n",
    "            vol_rho = np.zeros((64,76,64))\n",
    "            vol_p = np.zeros((64,76,64))\n",
    "            for vi in range(nvv):\n",
    "                idx = brain_inform_list[vi][1]\n",
    "                roirdm = brain_rdm[vi]\n",
    "                vol_rho[idx], vol_p[idx] = rsa(stim_type,cnnrdms[sbj_idx,li])\n",
    "            save_nifti(vol_rho,savebase+'/P'+str(sbj_list[sbj_idx])+'_rho_'+sv_key+'_L'+str(li+1)+'.nii')\n",
    "            save_nifti(vol_p,savebase+'/P'+str(sbj_list[sbj_idx])+'_pvl_'+sv_key+'_L'+str(li+1)+'.nii')"
   ]
  },
  {
   "cell_type": "code",
   "execution_count": null,
   "metadata": {
    "collapsed": true
   },
   "outputs": [],
   "source": [
    "# t-test\n",
    "stim_type_list = ['_dpt', '_opt', '_offd', '3x3','3x3']\n",
    "savebase = base+'/For_thesis/RSA_ROI_CNN/'\n",
    "for ti, type_ in enumerate(interest_list):\n",
    "    stim_type = stim_type_list[ti]\n",
    "    for li in range(depth):\n",
    "        # individual rho map load\n",
    "        arr_all = np.zeros((sbjs_num,64,76,64))\n",
    "        for sbj_idx in range(sbjs_num):\n",
    "            arr_all[sbj_idx] = nib.load(base+'/RSA_Wholebrain_CNN/PCA3_90/P'+str(sbj_list[sbj_idx])+'_rho_'+type_+stim_type+'_L'+str(li+1)+'.nii').get_fdata()\n",
    "        # group mask\n",
    "        intsec_mask = np.zeros((64,76,64),dtype=int)\n",
    "        vol_sum = np.sum((arr_all != 0), axis=0)\n",
    "        ints_idx = np.where(vol_sum == sbjs_num)\n",
    "        print(type_,':',ints_idx[0].shape[0])\n",
    "        intsec_mask[ints_idx] = 1\n",
    "        # ttest\n",
    "        tmpvols_off = arr_all.copy() #sbjs_num,64,76,64\n",
    "        # mask\n",
    "        msk_idx = np.where(intsec_mask == 1)\n",
    "        nvv = msk_idx[0].shape[0]\n",
    "        # r to z\n",
    "        vecs = np.arctanh(tmpvols_off.transpose(1,2,3,0)[msk_idx])\n",
    "        # t-test    \n",
    "        tmpt = np.zeros((nvv))\n",
    "        tmpp = np.zeros((nvv))\n",
    "        for vi, vec in enumerate(vecs):\n",
    "            tmpt[vi], tmpp[vi] = stats.ttest_1samp(vec,0.)\n",
    "        # save t\n",
    "        vol_tmp = np.zeros((64,76,64))\n",
    "        vol_tmp[msk_idx] = tmpt\n",
    "        img1 = nib.Nifti1Image(vol_tmp,affine=affine)\n",
    "        nib.save(img1,savebase+'tmap_'+type_+'_L'+str(li+1)+'_r3.nii')\n",
    "        # save p\n",
    "        vol_tmp = np.zeros((64,76,64))\n",
    "        vol_tmp[msk_idx] = tmpp\n",
    "        img1 = nib.Nifti1Image(vol_tmp,affine=affine)\n",
    "        nib.save(img1,savebase+'pval_'+type_+'_L'+str(li+1)+'_r3.nii')"
   ]
  },
  {
   "cell_type": "code",
   "execution_count": null,
   "metadata": {
    "collapsed": true
   },
   "outputs": [],
   "source": [
    "# load tmaps\n",
    "tmaps = np.zeros((5,15,64,76,64))\n",
    "tpmaps = np.zeros((5,15,64,76,64))\n",
    "for ti, type_ in enumerate(interest_list):\n",
    "    for li in range(depth):\n",
    "        loadpath = savebase+'tmap_'+type_+'_L'+str(li+1)+'_r3.nii'\n",
    "        tmaps[ti,li] = nib.load(loadpath).get_fdata()\n",
    "        loadpath = savebase+'pval_'+type_+'_L'+str(li+1)+'_r3.nii'\n",
    "        tpmaps[ti,li] = nib.load(loadpath).get_fdata()"
   ]
  },
  {
   "cell_type": "code",
   "execution_count": null,
   "metadata": {
    "collapsed": true
   },
   "outputs": [],
   "source": [
    "from pathlib import Path\n",
    "import matplotlib as mpl\n",
    "fpath = Path(mpl.get_data_path(), \"/users/jmy/data/image_sound/arial.ttf\")"
   ]
  },
  {
   "cell_type": "code",
   "execution_count": null,
   "metadata": {
    "scrolled": true
   },
   "outputs": [],
   "source": [
    "def save_bar_graph_mod2(ti, ylim=None, svk=''):\n",
    "    type_ = interest_list[ti]\n",
    "    fchar = type_[0].lower()\n",
    "    path = base+'/01_STEP/16x16/offd/5e-02_'+fchar+'l2_20_r3_mask+tlrc.HEAD'\n",
    "    clst_ = nib.load(path).get_fdata().squeeze()\n",
    "    totn = int(clst_.max())\n",
    "    rown = int(np.ceil(totn/4))\n",
    "    height = rown*4\n",
    "    fig, axes = plt.subplots(rown,4,figsize=(16,height-1),facecolor='white',sharex=True,constrained_layout=True)\n",
    "    ax = axes.flat\n",
    "    if rown*4 != totn:\n",
    "        for ai in range(totn,rown*4):\n",
    "            fig.delaxes(ax[ai])\n",
    "    for clstn in range(totn):\n",
    "        clst_idx = np.where(clst_== clstn+1)\n",
    "        vxlnum = clst_idx[0].shape[0]\n",
    "        # bar graph\n",
    "        lay_mean = np.zeros((15))\n",
    "        lay_ste = np.zeros((15))\n",
    "        sig_info = np.ones((15))\n",
    "        for li2 in range(depth):\n",
    "            tmap, tpmap = tmaps[ti][li2],tpmaps[ti][li2]\n",
    "            tmap_thr = tmap.copy()\n",
    "            vec = tmap_thr[clst_idx]\n",
    "            vec = vec[(vec>0)]\n",
    "            if np.sum(vec) == 0:\n",
    "                vec = tmap[clst_idx].copy()\n",
    "                sig_info[li2] = 0\n",
    "            lay_mean[li2] = vec.mean()\n",
    "            lay_ste[li2] = vec.std()/vec.shape[0]\n",
    "        cor_idx = np.where(sig_info==1)\n",
    "        tran_idx = np.where(sig_info!=1)\n",
    "        ax[clstn].bar(xticks[cor_idx],lay_mean[cor_idx],color=col_arr[cor_idx],width=0.9,linewidth=1.5,\n",
    "                    yerr=lay_ste[cor_idx],error_kw=dict(lw=1.2),ecolor='k')\n",
    "        if ylim != None:\n",
    "            ax[clstn].set_yticks(np.arange(ylim[0],ylim[1]+0.1,1.0))\n",
    "        ax[clstn].get_xaxis().set_visible(False)\n",
    "        if (clstn%4 == 0) or clstn == 0:\n",
    "            ax[clstn].set_ylabel('t-score', font=fpath,fontsize=20)\n",
    "        sns.despine(ax=ax[clstn])\n",
    "    plt.show()\n",
    "    plt.close()\n",
    "for ti in range(5):\n",
    "    save_bar_graph_mod2(ti,ylim=(0,2),svk='Pos_')"
   ]
  },
  {
   "cell_type": "code",
   "execution_count": null,
   "metadata": {},
   "outputs": [],
   "source": [
    "# For Vs\n",
    "def save_bar_graph_mod2(ti, ylim=None, svk=''):\n",
    "    type_ = interest_list[ti]\n",
    "    fchar = type_[0].lower()\n",
    "    path = base+'/01_STEP/16x16/offd/5e-02_'+fchar+'l2_20_r3_mask+tlrc.HEAD'\n",
    "    clst_ = nib.load(path).get_fdata().squeeze()\n",
    "    totn = int(clst_.max())\n",
    "    rown = int(np.ceil(totn/6))\n",
    "    height = rown*4\n",
    "    fig, axes = plt.subplots(rown,6,figsize=(24,height-0.5),facecolor='white',sharex=True,constrained_layout=True)\n",
    "    ax = axes.flat\n",
    "    for clstn in range(totn):\n",
    "        clst_idx = np.where(clst_== clstn+1)\n",
    "        vxlnum = clst_idx[0].shape[0]\n",
    "        # bar graph\n",
    "        lay_mean = np.zeros((15))\n",
    "        lay_ste = np.zeros((15))\n",
    "        sig_info = np.ones((15))\n",
    "        for li2 in range(depth):\n",
    "            tmap, tpmap = tmaps[ti][li2],tpmaps[ti][li2]\n",
    "            tmap_thr = tmap.copy()\n",
    "            vec = tmap_thr[clst_idx]\n",
    "            vec = vec[(vec>0)]\n",
    "            if np.sum(vec) == 0:\n",
    "                vec = tmap[clst_idx].copy()\n",
    "                sig_info[li2] = 0\n",
    "            lay_mean[li2] = vec.mean()\n",
    "            lay_ste[li2] = vec.std()/vec.shape[0]\n",
    "        cor_idx = np.where(sig_info==1)\n",
    "        tran_idx = np.where(sig_info!=1)\n",
    "        ax[clstn].bar(xticks[cor_idx],lay_mean[cor_idx],color=col_arr[cor_idx],width=0.9,linewidth=1.5,\n",
    "                    yerr=lay_ste[cor_idx],error_kw=dict(lw=1.2),ecolor='k')\n",
    "        if ylim != None:\n",
    "            ax[clstn].set_yticks(np.arange(ylim[0],ylim[1]+0.1,1.0))\n",
    "        ax[clstn].get_xaxis().set_visible(False)\n",
    "        if clstn == 0:\n",
    "            ax[clstn].set_ylabel('t-score', font=fpath,fontsize=20)\n",
    "        sns.despine(ax=ax[clstn])\n",
    "    plt.show()\n",
    "    plt.close()\n",
    "ti = 2\n",
    "save_bar_graph_mod2(ti,ylim=(0,2),svk='Pos_')"
   ]
  }
 ],
 "metadata": {
  "kernelspec": {
   "display_name": "Python 3",
   "language": "python",
   "name": "python3"
  },
  "language_info": {
   "codemirror_mode": {
    "name": "ipython",
    "version": 3
   },
   "file_extension": ".py",
   "mimetype": "text/x-python",
   "name": "python",
   "nbconvert_exporter": "python",
   "pygments_lexer": "ipython3",
   "version": "3.6.3"
  }
 },
 "nbformat": 4,
 "nbformat_minor": 2
}
