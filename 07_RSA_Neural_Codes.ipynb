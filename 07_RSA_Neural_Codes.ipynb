{
 "cells": [
  {
   "cell_type": "code",
   "execution_count": null,
   "metadata": {
    "collapsed": true
   },
   "outputs": [],
   "source": [
    "import os\n",
    "import numpy as np\n",
    "import nibabel as nib\n",
    "from scipy import stats\n",
    "import matplotlib.pyplot as plt\n",
    "import seaborn as sns\n",
    "%matplotlib inline"
   ]
  },
  {
   "cell_type": "code",
   "execution_count": null,
   "metadata": {
    "collapsed": true
   },
   "outputs": [],
   "source": [
    "base = '/users/jmy/data/image_sound'\n",
    "sbjs_num = 15\n",
    "sbj_list = [25,26,29,30,31,32,33,34,37,38,39,40,41,43,44]\n",
    "interest_list = ['Digit','Object','Vs','Magnitude','Animacy']\n",
    "cd_n = len(interest_list)\n",
    "hcp = nib.load('/users/jmy/data/MNI_reference/hcp_360_3mm_64.nii').get_fdata()\n",
    "affine = np.array([[   3. ,   -0. ,   -0. ,  -94.5],\n",
    "       [  -0. ,    3. ,   -0. , -130.5],\n",
    "       [   0. ,    0. ,    3. ,  -76.5],\n",
    "       [   0. ,    0. ,    0. ,    1. ]])"
   ]
  },
  {
   "cell_type": "code",
   "execution_count": null,
   "metadata": {
    "collapsed": true
   },
   "outputs": [],
   "source": [
    "# RDM codes for each condition\n",
    "dgt_cd = np.zeros((16,16))\n",
    "dgt_cd[:10,:10] = 1\n",
    "obj_cd = np.zeros((16,16))\n",
    "obj_cd[10:,10:] = 1\n",
    "vs_cd = np.zeros((16,16))\n",
    "vs_cd[:10,10:] = 1\n",
    "vs_cd[10:,:10] = 1\n",
    "mag_cd = np.zeros((16,16))\n",
    "mag_cd[7:10,1:4] = 1\n",
    "ani_cd = np.zeros((16,16))\n",
    "ani_cd[13:,10:13] = 1\n",
    "cds_list = [dgt_cd,obj_cd,vs_cd,mag_cd,ani_cd]"
   ]
  },
  {
   "cell_type": "code",
   "execution_count": null,
   "metadata": {
    "collapsed": true
   },
   "outputs": [],
   "source": [
    "def rdm_reord(org):\n",
    "    new = org.copy()\n",
    "    new[10:15,10:15] = org[11:,11:]\n",
    "    new[15,15] = org[10,10]\n",
    "    new[-1,10:15] = org[10,11:]\n",
    "    new[10:15,-1] = org[11:,10]\n",
    "    return new"
   ]
  },
  {
   "cell_type": "code",
   "execution_count": null,
   "metadata": {
    "collapsed": true
   },
   "outputs": [],
   "source": [
    "vols_off = np.zeros((cd_n,sbjs_num,64,76,64))\n",
    "il16 = np.tril_indices(16,-1)\n",
    "for sbj_idx in range(sbjs_num): #25,39\n",
    "    # load brain rdm\n",
    "    load_path = base+'/RDMs/Neural/16x16/P'+str(sbj_list[sbj_idx])+'_i.npz'\n",
    "    l = np.load(load_path,allow_pickle=True)\n",
    "    brain_rdm = l['rdm']\n",
    "    brain_inform_list = l['info_list'] \n",
    "    # spearman corr\n",
    "    nvv = brain_rdm.shape[0]\n",
    "    for cdi,code in enumerate(cds_list):\n",
    "        vol = np.zeros((64,76,64))\n",
    "        for vi in range(nvv):\n",
    "            idx = brain_inform_list[vi][1]\n",
    "            rdm_ = rdm_reord(brain_rdm[vi])\n",
    "            r, _ = stats.spearmanr(code[il16],rdm_[il16])\n",
    "            vol[idx] = r\n",
    "        vols_off[cdi,sbj_idx] = vol"
   ]
  },
  {
   "cell_type": "code",
   "execution_count": null,
   "metadata": {},
   "outputs": [],
   "source": [
    "# Zero center (for each condition)\n",
    "for ti,type_ in enumerate(interest_list):\n",
    "    xlim = max(abs(vols_off[ti].min()),abs(vols_off[ti].max()))\n",
    "    f,axes = plt.subplots(3,5, figsize=(20,11),constrained_layout=True,facecolor='white')\n",
    "    f.suptitle(type_, fontsize=17)\n",
    "    ax = axes.flat\n",
    "    for i in range(sbjs_num):\n",
    "        vol = vols_off[ti,i]\n",
    "        ax[i].set_title('SKKU '+str(sbj_list[i]-25),fontsize=13)\n",
    "        ax[i].set_xlim([xlim*-1.,xlim])\n",
    "        ax[i].axvline(x=0.0,color='r',linestyle='--')\n",
    "        sns.distplot(vol[np.where(vol != 0)],ax=ax[i])\n",
    "    plt.show()"
   ]
  },
  {
   "cell_type": "code",
   "execution_count": null,
   "metadata": {},
   "outputs": [],
   "source": [
    "# group mask\n",
    "intsec_masks = np.zeros((cd_n,64,76,64),dtype=int)\n",
    "for ti,type_ in enumerate(interest_list):\n",
    "    vol_sum = np.sum((vols_off[ti] != 0), axis=0)\n",
    "    ints_idx = np.where(vol_sum == sbjs_num)\n",
    "    print(type_,':',ints_idx[0].shape[0])\n",
    "    intsec_masks[ti][ints_idx] = 1\n",
    "# ttest\n",
    "savebase = base+'/01_STEP/16x16/offd/Ps'+str(sbjs_num)+'_'\n",
    "os.makedirs(savebase,exist_ok=False)\n",
    "for ti,type_ in enumerate(interest_list):\n",
    "    tmpvols_off = vols_off[ti].copy()\n",
    "    # mask\n",
    "    msk_idx = np.where(intsec_masks[ti] == 1)\n",
    "    nvv = msk_idx[0].shape[0]\n",
    "    # r to z\n",
    "    vecs = np.arctanh(tmpvols_off.transpose(1,2,3,0)[msk_idx])\n",
    "    # t-test    \n",
    "    tmpt = np.zeros((nvv))\n",
    "    tmpp = np.zeros((nvv))\n",
    "    for vi, vec in enumerate(vecs):\n",
    "        tmpt[vi], tmpp[vi] = stats.ttest_1samp(vec,0.)\n",
    "    # save t\n",
    "    vol_tmp = np.zeros((64,76,64))\n",
    "    vol_tmp[msk_idx] = tmpt\n",
    "    img1 = nib.Nifti1Image(vol_tmp,affine=affine)\n",
    "    if type_ in ['Magnitude','Animacy']:\n",
    "        file_key = type_+'_r3_16x16'\n",
    "    else:\n",
    "        file_key = type_+'_r3'\n",
    "    nib.save(img1,savebase+'tmap_'+file_key+'.nii')\n",
    "    # save p\n",
    "    vol_tmp = np.zeros((64,76,64))\n",
    "    vol_tmp[msk_idx] = tmpp\n",
    "    img1 = nib.Nifti1Image(vol_tmp,affine=affine)\n",
    "    nib.save(img1,savebase+'pval_'+file_key+'.nii')"
   ]
  },
  {
   "cell_type": "markdown",
   "metadata": {},
   "source": [
    "# p-value correction"
   ]
  },
  {
   "cell_type": "code",
   "execution_count": null,
   "metadata": {
    "collapsed": true
   },
   "outputs": [],
   "source": [
    "import os\n",
    "import scipy\n",
    "from tqdm import tqdm\n",
    "from multiprocessing import Pool, Lock"
   ]
  },
  {
   "cell_type": "code",
   "execution_count": null,
   "metadata": {
    "collapsed": true
   },
   "outputs": [],
   "source": [
    "idx2shf = np.arange(nvv)\n",
    "sbj_idx_ = np.arange(sbjs_num)"
   ]
  },
  {
   "cell_type": "code",
   "execution_count": null,
   "metadata": {},
   "outputs": [],
   "source": [
    "# using multi core\n",
    "p_cnt = 25 # number of cores \n",
    "run_cnt = int(nvv*10000/p_cnt) \n",
    "print(nvv*10000/p_cnt)"
   ]
  },
  {
   "cell_type": "code",
   "execution_count": null,
   "metadata": {
    "scrolled": true
   },
   "outputs": [],
   "source": [
    "for ti, type_ in enumerate(interest_list):\n",
    "    tmpvols = vols_off[ti].copy()\n",
    "    # mask\n",
    "    msk_idx = np.where(intsec_masks[ti] == 1)\n",
    "    nvv = msk_idx[0].shape[0]\n",
    "    # r to z\n",
    "    vecs = np.arctanh(tmpvols.transpose(1,2,3,0)[msk_idx])\n",
    "    p_out = []\n",
    "    boot_ts = np.zeros((1))\n",
    "    def ttest_Rndperm(self):\n",
    "        global sbj_idx_, vecs, boot_ts\n",
    "        scipy.random.seed(int.from_bytes(os.urandom(3), byteorder='little'))\n",
    "        rnd_idx = np.random.choice(idx2shf,sbjs_num,replace=False)\n",
    "        boot_ts, _ = stats.ttest_1samp(vecs[rnd_idx,sbj_idx_],0.)\n",
    "        return boot_ts\n",
    "    if __name__=='__main__':\n",
    "        p = Pool(processes = p_cnt) # 25\n",
    "        for i in tqdm(range(run_cnt), desc='Total Progress') : # 400\n",
    "            p_out.append(p.map(ttest_Rndperm, range(p_cnt))) # 25\n",
    "        p.close()\n",
    "        p.join()\n",
    "    pooled_ts = np.array(p_out,dtype=np.float16).reshape(p_cnt*run_cnt)\n",
    "    sns.distplot(pooled_ts)\n",
    "    plt.title(type_)\n",
    "    plt.show()\n",
    "    # save\n",
    "    if type_ in ['Magnitude','Animacy']:\n",
    "        file_key = type_+'_r3_16x16'\n",
    "    else:\n",
    "        file_key = type_+'_r3'\n",
    "    np.savez(savebase+'rndperm_tscore_'+file_key+'.npz',pooled_ts=pooled_ts)"
   ]
  },
  {
   "cell_type": "markdown",
   "metadata": {},
   "source": [
    "## Thresholded tmap"
   ]
  },
  {
   "cell_type": "code",
   "execution_count": null,
   "metadata": {
    "collapsed": true
   },
   "outputs": [],
   "source": [
    "savebase = base+'/01_STEP/Ps'+str(sbjs_num)+'_'"
   ]
  },
  {
   "cell_type": "code",
   "execution_count": null,
   "metadata": {
    "collapsed": true
   },
   "outputs": [],
   "source": [
    "pval = 0.05\n",
    "for ti,type_ in enumerate(interest_list):\n",
    "    if type_ in ['Magnitude','Animacy']:\n",
    "        file_key = type_+'_r3_16x16'\n",
    "    else:\n",
    "        file_key = type_+'_r3'\n",
    "    tvol = nib.load(savebase+'tmap_'+file_key+'.nii').get_fdata()\n",
    "    msk_idx = np.where(tvol!=0)\n",
    "    print(type_, msk_idx[0].shape[0])\n",
    "    tmpt = tvol[msk_idx]\n",
    "    pooled_ts = np.load(savebase+'rndperm_tscore_'+file_key+'.npz')['pooled_ts']\n",
    "    # threshold\n",
    "    lb, ub = np.percentile(pooled_ts,[pval*100/2,100-pval*100/2])\n",
    "    tmpt[np.where((lb < tmpt) & (tmpt< ub))] = 0\n",
    "    vol_tmp = np.zeros((64,76,64))\n",
    "    vol_tmp[msk_idx] = tmpt\n",
    "    img1 = nib.Nifti1Image(vol_tmp,affine=affine)\n",
    "    savepath = savebase+str(pval)+'_correted_tmap_'+file_key+'.nii'\n",
    "    nib.save(img1,savepath)"
   ]
  }
 ],
 "metadata": {
  "kernelspec": {
   "display_name": "Python 3",
   "language": "python",
   "name": "python3"
  },
  "language_info": {
   "codemirror_mode": {
    "name": "ipython",
    "version": 3
   },
   "file_extension": ".py",
   "mimetype": "text/x-python",
   "name": "python",
   "nbconvert_exporter": "python",
   "pygments_lexer": "ipython3",
   "version": "3.6.3"
  }
 },
 "nbformat": 4,
 "nbformat_minor": 4
}
